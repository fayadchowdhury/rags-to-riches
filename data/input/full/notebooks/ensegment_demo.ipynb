{
 "cells": [
  {
   "cell_type": "markdown",
   "metadata": {},
   "source": [
    "# ensegment: notebook"
   ]
  },
  {
   "cell_type": "code",
   "execution_count": 12,
   "metadata": {},
   "outputs": [],
   "source": [
    "from ensegment import *\n",
    "data_dir = '/Users/anoop/nlp-class-hw/ensegment/data/'"
   ]
  },
  {
   "cell_type": "markdown",
   "metadata": {},
   "source": [
    "## Documentation\n",
    "\n",
    "Write some beautiful documentation of your program here."
   ]
  },
  {
   "cell_type": "code",
   "execution_count": 13,
   "metadata": {},
   "outputs": [
    {
     "name": "stdout",
     "output_type": "stream",
     "text": [
      "choose spain\n",
      "this is a test\n",
      "who represents\n",
      "experts exchange\n",
      "speed of art\n",
      "unclimatechangebody\n",
      "we are the people\n",
      "mentionyourfaves\n",
      "now playing\n",
      "the walking dead\n",
      "follow me\n",
      "we are the people\n",
      "mentionyourfaves\n",
      "check domain\n",
      "big rock\n",
      "name cheap\n",
      "apple domains\n",
      "honesty hour\n",
      "being human\n",
      "follow back\n",
      "social media\n",
      "30secondstoearth\n",
      "current ratesoughttogodown\n",
      "this is insane\n",
      "what is my name\n",
      "is it time\n",
      "let us go\n",
      "me too\n",
      "nowthatcherisdead\n",
      "advice for young journalists\n"
     ]
    }
   ],
   "source": [
    "Pw = Pdist(data=datafile(data_dir + \"count_1w.txt\"))\n",
    "segmenter = Segment(Pw)\n",
    "with open(data_dir + \"input/dev.txt\") as f:\n",
    "    for line in f:\n",
    "        print(\" \".join(segmenter.segment(line.strip())))"
   ]
  },
  {
   "cell_type": "markdown",
   "metadata": {},
   "source": [
    "## Questions\n",
    "\n",
    "1. Which cases are clearly incorrect?\n",
    "2. What does the function `segmenter.segment` do?"
   ]
  },
  {
   "cell_type": "code",
   "execution_count": 14,
   "metadata": {},
   "outputs": [
    {
     "name": "stdout",
     "output_type": "stream",
     "text": [
      "class Segment:\n",
      "\n",
      "    def __init__(self, Pw):\n",
      "        self.Pw = Pw\n",
      "\n",
      "    @memo\n",
      "    def segment(self, text):\n",
      "        \"Return a list of words that is the best segmentation of text.\"\n",
      "        if not text: return []\n",
      "        candidates = ([first]+self.segment(rem) for first,rem in self.splits(text))\n",
      "        return max(candidates, key=self.Pwords)\n",
      "\n",
      "    def splits(self, text, L=20):\n",
      "        \"Return a list of all possible (first, rem) pairs, len(first)<=L.\"\n",
      "        return [(text[:i+1], text[i+1:]) \n",
      "                for i in range(min(len(text), L))]\n",
      "\n",
      "    def Pwords(self, words): \n",
      "        \"The Naive Bayes probability of a sequence of words.\"\n",
      "        return product(self.Pw(w) for w in words)\n",
      "\n",
      "class Pdist(dict):\n",
      "    \"A probability distribution estimated from counts in datafile.\"\n",
      "    def __init__(self, data=[], N=None, missingfn=None):\n",
      "        for key,count in data:\n",
      "            self[key] = self.get(key, 0) + int(count)\n",
      "        self.N = float(N or sum(self.values()))\n",
      "        self.missingfn = missingfn or (lambda k, N: 1./N)\n",
      "    def __call__(self, key): \n",
      "        if key in self: return self[key]/self.N  \n",
      "        else: return self.missingfn(key, self.N)\n",
      "\n"
     ]
    }
   ],
   "source": [
    "import inspect\n",
    "print(inspect.getsource(Segment))\n",
    "print(inspect.getsource(Pdist))"
   ]
  },
  {
   "cell_type": "code",
   "execution_count": 15,
   "metadata": {},
   "outputs": [
    {
     "data": {
      "text/plain": [
       "[('c', 'urrentratesoughttogodown'),\n",
       " ('cu', 'rrentratesoughttogodown'),\n",
       " ('cur', 'rentratesoughttogodown'),\n",
       " ('curr', 'entratesoughttogodown'),\n",
       " ('curre', 'ntratesoughttogodown'),\n",
       " ('curren', 'tratesoughttogodown'),\n",
       " ('current', 'ratesoughttogodown'),\n",
       " ('currentr', 'atesoughttogodown'),\n",
       " ('currentra', 'tesoughttogodown'),\n",
       " ('currentrat', 'esoughttogodown'),\n",
       " ('currentrate', 'soughttogodown'),\n",
       " ('currentrates', 'oughttogodown'),\n",
       " ('currentrateso', 'ughttogodown'),\n",
       " ('currentratesou', 'ghttogodown'),\n",
       " ('currentratesoug', 'httogodown'),\n",
       " ('currentratesough', 'ttogodown'),\n",
       " ('currentratesought', 'togodown'),\n",
       " ('currentratesoughtt', 'ogodown'),\n",
       " ('currentratesoughtto', 'godown'),\n",
       " ('currentratesoughttog', 'odown')]"
      ]
     },
     "execution_count": 15,
     "metadata": {},
     "output_type": "execute_result"
    }
   ],
   "source": [
    "segmenter.splits('currentratesoughttogodown')"
   ]
  },
  {
   "cell_type": "code",
   "execution_count": 16,
   "metadata": {
    "scrolled": true
   },
   "outputs": [
    {
     "name": "stdout",
     "output_type": "stream",
     "text": [
      "current 0.0003689477997199414\n",
      "ratesoughttogodown 1.7003210642847526e-12\n",
      "Total: -35.01\n"
     ]
    }
   ],
   "source": [
    "import math\n",
    "segments1 = ['current', 'rate', 'sought', 'to', 'go','down']\n",
    "segments = ['current', 'ratesoughttogodown']\n",
    "total = 0\n",
    "for w in segments: \n",
    "    total += math.log(segmenter.Pw(w)) # using log to keep the print statements legible\n",
    "    print(w, segmenter.Pw(w))\n",
    "print(\"Total: {:.2f}\".format(total))"
   ]
  },
  {
   "cell_type": "markdown",
   "metadata": {},
   "source": [
    "## Analysis\n",
    "\n",
    "Do some analysis of the results. What ideas did you try? What worked and what did not?"
   ]
  }
 ],
 "metadata": {
  "kernelspec": {
   "display_name": "Python 3",
   "language": "python",
   "name": "python3"
  },
  "language_info": {
   "codemirror_mode": {
    "name": "ipython",
    "version": 3
   },
   "file_extension": ".py",
   "mimetype": "text/x-python",
   "name": "python",
   "nbconvert_exporter": "python",
   "pygments_lexer": "ipython3",
   "version": "3.7.0"
  }
 },
 "nbformat": 4,
 "nbformat_minor": 2
}
