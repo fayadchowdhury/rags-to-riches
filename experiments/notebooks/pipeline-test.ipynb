{
 "cells": [
  {
   "cell_type": "markdown",
   "id": "10120fdc-4c65-40f9-a86e-bf53030b8692",
   "metadata": {},
   "source": [
    "# Testing pipeline\n",
    "\n",
    "In this notebook, we construct a pipeline using modular functions to:\n",
    "<ol>\n",
    "    <li>Parse data documents</li>\n",
    "    <li>Split them into chunks</li>\n",
    "    <li>Embed the text in the chunks</li>\n",
    "    <li>Push our embeddings to Pinecone (and save them locally as JSONs too)</li>\n",
    "</ol>\n",
    "\n",
    "We also generate some stats and visualizations about the chunks:\n",
    "<ul>\n",
    "    <li>The max length of a chunk</li>\n",
    "    <li>The average number of tokens per chunk</li>\n",
    "    <li>The distribution of lengths of chunks</li>\n",
    "</ul>"
   ]
  },
  {
   "cell_type": "markdown",
   "id": "31da5f62-ed05-4715-a388-0f26ec6dcb7b",
   "metadata": {},
   "source": [
    "### Imports"
   ]
  },
  {
   "cell_type": "code",
   "execution_count": 1,
   "id": "4363e455-e24b-4923-8a23-856b5a2183df",
   "metadata": {},
   "outputs": [
    {
     "name": "stderr",
     "output_type": "stream",
     "text": [
      "[nltk_data] Downloading package punkt to /Users/fayad/nltk_data...\n",
      "[nltk_data]   Package punkt is already up-to-date!\n"
     ]
    },
    {
     "data": {
      "text/plain": [
       "True"
      ]
     },
     "execution_count": 1,
     "metadata": {},
     "output_type": "execute_result"
    }
   ],
   "source": [
    "from pypdf import PdfReader\n",
    "import json\n",
    "import nltk\n",
    "from boilerpy3 import extractors\n",
    "\n",
    "from sentence_transformers import SentenceTransformer\n",
    "from openai import OpenAI\n",
    "from dotenv import load_dotenv\n",
    "import os\n",
    "from sklearn.metrics.pairwise import cosine_similarity\n",
    "import random\n",
    "import numpy as np\n",
    "\n",
    "import pandas as pd\n",
    "\n",
    "import matplotlib.pyplot as plt\n",
    "import seaborn as sns\n",
    "\n",
    "import time\n",
    "\n",
    "import uuid\n",
    "\n",
    "import re\n",
    "\n",
    "from pinecone import Pinecone, ServerlessSpec\n",
    "\n",
    "import tiktoken\n",
    "\n",
    "nltk.download('punkt')"
   ]
  },
  {
   "cell_type": "markdown",
   "id": "cc57b4e4-2a84-411f-beb0-9ccc3880218f",
   "metadata": {},
   "source": [
    "### Environment variables"
   ]
  },
  {
   "cell_type": "code",
   "execution_count": 2,
   "id": "fb222e0a-884a-42c9-abf1-fe6d6ad5ff8a",
   "metadata": {},
   "outputs": [
    {
     "data": {
      "text/plain": [
       "True"
      ]
     },
     "execution_count": 2,
     "metadata": {},
     "output_type": "execute_result"
    }
   ],
   "source": [
    "load_dotenv()"
   ]
  },
  {
   "cell_type": "code",
   "execution_count": 3,
   "id": "70a4806a-7c27-4702-8698-d0a4f2e8c740",
   "metadata": {},
   "outputs": [],
   "source": [
    "OPENAI_API_KEY = os.environ[\"OPENAI_API_KEY\"]"
   ]
  },
  {
   "cell_type": "code",
   "execution_count": 4,
   "id": "e38d6822-63d1-422a-bb74-16fc76bbd54c",
   "metadata": {},
   "outputs": [],
   "source": [
    "PINECONE_API_KEY = os.environ[\"PINECONE_API_KEY\"]"
   ]
  },
  {
   "cell_type": "code",
   "execution_count": 5,
   "id": "18db24cf-ceb6-454e-bd4e-b71702b515f0",
   "metadata": {},
   "outputs": [],
   "source": [
    "PINECONE_INDEX_NAME = os.environ[\"PINECONE_INDEX_NAME\"]"
   ]
  },
  {
   "cell_type": "markdown",
   "id": "0f41e17e-6fea-4137-9499-489db473f578",
   "metadata": {},
   "source": [
    "### Parsing\n",
    "\n",
    "As mentioned in the vector-database notebook, we inspected why some pushes were failing and found that one of the reasons was that certain PDF chunks were huge because they included some hash function output within \\<latexit> tags from latex conversion. We included a regular expression matching technirue to eliminate those portions.\n",
    "\n",
    "The rest are direct copies of the functions in the other notebook."
   ]
  },
  {
   "cell_type": "code",
   "execution_count": 6,
   "id": "e6b51602-88b7-46ae-93e9-17867aa5b053",
   "metadata": {},
   "outputs": [],
   "source": [
    "def read_text_with_metadata_from_pdfs(file_path):\n",
    "    reader = PdfReader(file_path)\n",
    "    num_pages = len(reader.pages)\n",
    "    data = []\n",
    "    \n",
    "    # Define a regex pattern to detect <latexit> tags\n",
    "    latexit_pattern = r\"<latexit[^>]*>.*?</latexit>\"\n",
    "    \n",
    "    for i in range(num_pages):\n",
    "        text = reader.pages[i].extract_text()\n",
    "        cleaned_text = re.sub(latexit_pattern, \"\", text)\n",
    "        data.append({\n",
    "            \"file_type\": \"pdf\",\n",
    "            \"file_name\": file_path,\n",
    "            \"marker\": i, # To identify where in the document this chunk is from\n",
    "            \"text\": cleaned_text\n",
    "        })\n",
    "\n",
    "    return data"
   ]
  },
  {
   "cell_type": "code",
   "execution_count": 7,
   "id": "153052df-fb78-4ee1-adfe-a44de8fbceff",
   "metadata": {},
   "outputs": [],
   "source": [
    "def read_text_with_metadata_from_htmls(file_path):\n",
    "    # Use ArticleExtractor from boilerpy3\n",
    "    extractor = extractors.ArticleExtractor()\n",
    "    data = []\n",
    "    try:\n",
    "        clean_content = extractor.get_content_from_file(file_path)\n",
    "        clean_content = nltk.sent_tokenize(clean_content)\n",
    "        seq_num = 0\n",
    "        for content in clean_content:\n",
    "            data.append({\n",
    "                \"file_type\": \"html\",\n",
    "                \"file_name\": file_path,\n",
    "                \"text\": content,\n",
    "                \"marker\": seq_num\n",
    "            })\n",
    "            seq_num += 1\n",
    "        \n",
    "    except Exception as e:\n",
    "        print(f\"Error with BoilerPy3 extraction: {e}\")\n",
    "    finally:\n",
    "        return data"
   ]
  },
  {
   "cell_type": "code",
   "execution_count": 8,
   "id": "92043317-ed0c-4cd4-a50f-4d55c91ffac2",
   "metadata": {},
   "outputs": [],
   "source": [
    "def read_code_md_outputs_with_metadata_from_notebooks(file_path):\n",
    "    # Load the notebook file\n",
    "    with open(file_path, 'r', encoding='utf-8') as f:\n",
    "        notebook = json.load(f)\n",
    "\n",
    "    content = []\n",
    "    seq_num = 0\n",
    "    \n",
    "    # Extract cells\n",
    "    for cell in notebook.get('cells', []):\n",
    "        cell_type = cell.get('cell_type')\n",
    "        if cell_type == 'markdown': # Markdown cell\n",
    "            md_content = \"Text block:\\n\"\n",
    "            md_content += \"\".join(cell.get('source', [])) + \"\\n\"\n",
    "            # print(md_content)\n",
    "            content.append({\n",
    "                \"file_type\": \"ipynb\",\n",
    "                \"file_name\": file_path,\n",
    "                \"marker\": seq_num,\n",
    "                \"text\": md_content\n",
    "            })\n",
    "        elif cell_type == 'code':\n",
    "            code_content = \"Code block:\\n\"\n",
    "            code_content += \"\".join(cell.get('source', [])) + \"\\n\"\n",
    "            # print(code_content)\n",
    "            # code_source = ''.join(code_content)\n",
    "            # outputs = []\n",
    "            code_content += \"Output:\\n\"\n",
    "            \n",
    "            # Extract outputs\n",
    "            for output in cell.get('outputs', []):\n",
    "                if output.get('output_type') == 'stream':\n",
    "                    code_content += \"\".join(output.get('text', [])) + \"\\n\"\n",
    "                    # print(output_content)\n",
    "                    # outputs.append(output_content)\n",
    "                elif output.get('output_type') == 'execute_result':\n",
    "                    code_content += \"\".join(output.get('data', {}).get('text/plain', [])) + \"\\n\"\n",
    "                    # print(output_content)\n",
    "                    # outputs.append(output_content)\n",
    "                elif output.get('output_type') == 'error':\n",
    "                    code_content += \"Error: \".join(output.get('traceback', [])) + \"\\n\"\n",
    "                    # print(output_content)\n",
    "                    # outputs.append('Error: ' + output_content)\n",
    "\n",
    "            content.append({\n",
    "                \"file_type\": \"ipynb\",\n",
    "                \"file_name\": file_path,\n",
    "                \"marker\": seq_num,\n",
    "                \"text\": code_content\n",
    "            })\n",
    "\n",
    "        seq_num += 1\n",
    "    \n",
    "    return content"
   ]
  },
  {
   "cell_type": "code",
   "execution_count": 9,
   "id": "a9dd0900-a188-440e-a6da-8a44643237c7",
   "metadata": {},
   "outputs": [],
   "source": [
    "def read_text_with_metadata_from_qa_csvs(qa_doc_path):\n",
    "    qas = pd.read_csv(qa_doc_path, skiprows=1, names=[\"info\", \"question\", \"answer\"])\n",
    "    qas[\"info\"] = qas[\"info\"].fillna(\"No extra information given\")\n",
    "    data = []\n",
    "    for index, row in qas.iterrows():\n",
    "        text = f\"Info: {row['info']}\\nQuestion: {row['question']}\\nAnswer: {row['answer']}\"\n",
    "        data.append({\n",
    "            \"file_type\": \"csv\",\n",
    "            \"file_name\": \"test\",\n",
    "            \"marker\": index+1,\n",
    "            \"sub_marker\": index+1, # Not necessary since we are not chunking\n",
    "            \"text\": text,\n",
    "            \"first_10_words\": \" \".join(text.split()[:10])\n",
    "        })\n",
    "\n",
    "    return data"
   ]
  },
  {
   "cell_type": "markdown",
   "id": "ea39388d-7870-4780-a00e-e2f05d768708",
   "metadata": {},
   "source": [
    "### Chunking\n",
    "\n",
    "As mentioned in the vector-database notebook, sometimes the chunk had too much text because the tokens were not appropriately counted or maybe sometimes large numbers were parsed and tokenized weirdly. Using OpenAI's tiktoken generates better chunks and we make that adaptation here in the sequential_chunk_text_tiktoken() function."
   ]
  },
  {
   "cell_type": "code",
   "execution_count": 10,
   "id": "cf84ae2c-a3c0-44d1-ae61-30dde2cffcbe",
   "metadata": {},
   "outputs": [],
   "source": [
    "tokenizer = tiktoken.get_encoding(\"cl100k_base\")"
   ]
  },
  {
   "cell_type": "code",
   "execution_count": 11,
   "id": "8c5b1df0-a579-4d66-a1da-1ddb11a48803",
   "metadata": {},
   "outputs": [],
   "source": [
    "def sequential_chunk_text(data, max_tokens=512, overlap=50):\n",
    "     \n",
    "    chunked_data = []\n",
    "    \n",
    "    for entry in data:\n",
    "        text = entry['text'].split(\"\\n\")  # Split text into sentences/lines\n",
    "        chunks = []\n",
    "        chunk = []\n",
    "        current_tokens = 0\n",
    "        sub_marker = 0\n",
    "        \n",
    "        for idx, sentence in enumerate(text):\n",
    "            sentence_tokens = len(sentence.split())  # Approximation of token count\n",
    "            if current_tokens + sentence_tokens > max_tokens:\n",
    "                # Finalize current chunk\n",
    "                chunk_text = \" \".join(chunk)\n",
    "                chunks.append({\n",
    "                    **entry,  # Copy the original dictionary fields\n",
    "                    'text': chunk_text,\n",
    "                    'sub_marker': sub_marker,\n",
    "                    'first_10_words': \" \".join(chunk_text.split()[:10])\n",
    "                })\n",
    "                sub_marker += 1\n",
    "                \n",
    "                # Start a new chunk with overlap\n",
    "                overlap_sentences = chunk[-overlap:] if overlap < len(chunk) else chunk\n",
    "                chunk = overlap_sentences[:]\n",
    "                current_tokens = sum(len(s.split()) for s in overlap_sentences)\n",
    "            \n",
    "            # Add the current sentence to the chunk\n",
    "            chunk.append(sentence)\n",
    "            current_tokens += sentence_tokens\n",
    "        \n",
    "        # Add the last chunk\n",
    "        if chunk:\n",
    "            chunk_text = \" \".join(chunk)\n",
    "            chunks.append({\n",
    "                **entry,\n",
    "                'text': chunk_text,\n",
    "                'sub_marker': sub_marker,\n",
    "                'first_10_words': \" \".join(chunk_text.split()[:10])\n",
    "            })\n",
    "        \n",
    "        # Append all chunks for this entry to the result\n",
    "        chunked_data.extend(chunks)\n",
    "    \n",
    "    return chunked_data"
   ]
  },
  {
   "cell_type": "code",
   "execution_count": 12,
   "id": "942cd485-417f-4e03-b815-bfa4cd9f2f7e",
   "metadata": {},
   "outputs": [],
   "source": [
    "def sequential_chunk_text_tiktoken(data, max_tokens=512, overlap=50, tokenizer=tokenizer):\n",
    "     \n",
    "    chunked_data = []\n",
    "    \n",
    "    for entry in data:\n",
    "        text = entry['text']\n",
    "        tokens = tokenizer.encode(text, disallowed_special=())  # Tokenize the entire text, ignore special tokens\n",
    "        chunks = []\n",
    "        current_tokens = []\n",
    "        sub_marker = 0\n",
    "        \n",
    "        i = 0\n",
    "        while i < len(tokens):\n",
    "            # Add tokens to the current chunk\n",
    "            current_tokens.append(tokens[i])\n",
    "            \n",
    "            # If max_tokens is exceeded, finalize the chunk\n",
    "            if len(current_tokens) >= max_tokens:\n",
    "                chunk_text = tokenizer.decode(current_tokens[:max_tokens])  # Decode back to text\n",
    "                chunks.append({\n",
    "                    **entry,  # Copy original metadata\n",
    "                    'text': chunk_text,\n",
    "                    'sub_marker': sub_marker,\n",
    "                    'first_10_tokens': \" \".join(chunk_text.split()[:10])\n",
    "                })\n",
    "                sub_marker += 1\n",
    "                \n",
    "                # Handle overlap for the next chunk\n",
    "                overlap_tokens = current_tokens[-overlap:] if overlap < len(current_tokens) else current_tokens\n",
    "                current_tokens = overlap_tokens[:]\n",
    "            \n",
    "            i += 1\n",
    "        \n",
    "        # Add the last chunk if not empty\n",
    "        if current_tokens:\n",
    "            chunk_text = tokenizer.decode(current_tokens)\n",
    "            chunks.append({\n",
    "                **entry,\n",
    "                'text': chunk_text,\n",
    "                'sub_marker': sub_marker,\n",
    "                'first_10_tokens': \" \".join(chunk_text.split()[:10])\n",
    "            })\n",
    "        \n",
    "        # Append all chunks for this entry to the result\n",
    "        chunked_data.extend(chunks)\n",
    "    \n",
    "    return chunked_data"
   ]
  },
  {
   "cell_type": "code",
   "execution_count": 13,
   "id": "888c7d5c-3435-4dbb-b1aa-acbd3798d3cf",
   "metadata": {},
   "outputs": [],
   "source": [
    "def generate_chunks_df(directory, qas = False):\n",
    "    start_time = time.time()\n",
    "    overall_df = pd.DataFrame()\n",
    "    for file in os.listdir(directory):\n",
    "        file_path = directory+file\n",
    "        print(f\"Working on: {file_path}\")\n",
    "        if qas:\n",
    "            temp_data = read_text_with_metadata_from_qa_csvs(file_path)\n",
    "        else:\n",
    "            extension = file_path.split(\".\")[-1]\n",
    "            if extension == \"pdf\":\n",
    "                temp_data = read_text_with_metadata_from_pdfs(file_path)\n",
    "            elif extension == \"html\":\n",
    "                temp_data = read_text_with_metadata_from_htmls(file_path)\n",
    "            elif extension == \"ipynb\":\n",
    "                temp_data = read_code_md_outputs_with_metadata_from_notebooks(file_path)\n",
    "        # temp_chunks = sequential_chunk_text(temp_data)\n",
    "        temp_chunks = sequential_chunk_text_tiktoken(temp_data)\n",
    "        temp_chunks_df = pd.DataFrame(temp_chunks)\n",
    "        overall_df = pd.concat([overall_df, temp_chunks_df], ignore_index=True)\n",
    "\n",
    "    end_time = time.time()\n",
    "    execution_time = end_time - start_time\n",
    "    print(f\"Time taken to generate chunks: {execution_time:.6f} seconds\")\n",
    "    return overall_df"
   ]
  },
  {
   "cell_type": "markdown",
   "id": "001a574a-73de-4d62-b701-50176df1498a",
   "metadata": {},
   "source": [
    "### Embedding"
   ]
  },
  {
   "cell_type": "code",
   "execution_count": 14,
   "id": "c1cc0c3f-5ffa-484b-b5c1-697b8a5ac44e",
   "metadata": {},
   "outputs": [],
   "source": [
    "client = OpenAI(\n",
    "    api_key = OPENAI_API_KEY\n",
    ")"
   ]
  },
  {
   "cell_type": "code",
   "execution_count": 15,
   "id": "27479e93-91a1-4a0b-bf0f-cccc9d82e885",
   "metadata": {},
   "outputs": [],
   "source": [
    "def get_embedding(text):\n",
    "    response = client.embeddings.create(\n",
    "        model=\"text-embedding-ada-002\",\n",
    "        input=text\n",
    "    )\n",
    "    data = response.data[0] # Single chunk\n",
    "    return data.embedding"
   ]
  },
  {
   "cell_type": "code",
   "execution_count": 16,
   "id": "9d168001-8c31-46c6-9801-ab803c1de804",
   "metadata": {},
   "outputs": [],
   "source": [
    "def generate_embeddings_df_json_and_save(df, save_file_name):\n",
    "    save_dir = f\"../data/output/embedding-jsons\"\n",
    "    if not os.path.exists(save_dir):\n",
    "        print(f\"Save directory {save_dir} does not exist. Creating it.\")\n",
    "        os.makedirs(save_dir)\n",
    "\n",
    "    start_time = time.time()\n",
    "    df[\"embedding\"] = df[\"text\"].apply(get_embedding)\n",
    "    end_time = time.time()\n",
    "    execution_time = end_time - start_time\n",
    "    print(f\"Time taken to generate embeddings: {execution_time:.6f} seconds\")\n",
    "    df.to_json(f\"{save_dir}/{save_file_name}\", orient=\"records\", lines=False)\n",
    "\n",
    "    return df"
   ]
  },
  {
   "cell_type": "markdown",
   "id": "29bdfa04-d09e-4a95-9ae4-8e16e10b7560",
   "metadata": {},
   "source": [
    "### Vector database\n",
    "\n",
    "We upsert the data in batches now instead of doing it all at once, this eliminates all errors."
   ]
  },
  {
   "cell_type": "code",
   "execution_count": 17,
   "id": "21d6f4a8-94d4-4ffb-8185-80f255953f8e",
   "metadata": {},
   "outputs": [],
   "source": [
    "pc = Pinecone(api_key=PINECONE_API_KEY)"
   ]
  },
  {
   "cell_type": "code",
   "execution_count": 18,
   "id": "81550916-e208-4f7c-b897-8452498bd5a9",
   "metadata": {},
   "outputs": [],
   "source": [
    "# Test run\n",
    "index_name = PINECONE_INDEX_NAME\n",
    "\n",
    "if not pc.has_index(index_name):\n",
    "    pc.create_index(\n",
    "        name=index_name,\n",
    "        dimension=1536,\n",
    "        metric=\"cosine\",\n",
    "        spec=ServerlessSpec(\n",
    "            cloud=\"aws\",\n",
    "            region=\"us-east-1\"\n",
    "        )\n",
    "    )\n",
    "\n",
    "index = pc.Index(index_name)"
   ]
  },
  {
   "cell_type": "code",
   "execution_count": 19,
   "id": "da2c3859-d488-45f7-ad7b-ccdb72ed32c0",
   "metadata": {},
   "outputs": [],
   "source": [
    "def prepare_data_for_pinecone(df):\n",
    "    pinecone_data = []\n",
    "    for _, row in df.iterrows():\n",
    "        embedding = list(row['embedding'])  # Ensure embedding is in list format\n",
    "        # Prepare the metadata dictionary with the relevant columns\n",
    "        metadata = {\n",
    "            \"file_type\": row['file_type'],\n",
    "            \"file_name\": row['file_name'],\n",
    "            \"marker\": str(row['marker']),\n",
    "            \"sub_marker\": str(row['sub_marker']),\n",
    "            \"first_10_tokens\": row['first_10_tokens'],\n",
    "            \"text\": row['text']\n",
    "        }\n",
    "        pinecone_data.append({\n",
    "            'id': str(uuid.uuid4()),\n",
    "            'values': embedding,\n",
    "            'metadata': metadata\n",
    "        })\n",
    "    return pinecone_data"
   ]
  },
  {
   "cell_type": "code",
   "execution_count": 20,
   "id": "0a01fae6-34de-4acc-a2ae-bf60302856a4",
   "metadata": {},
   "outputs": [],
   "source": [
    "def batch_upsert_data_into_index(pc_data, index, batch_size=10):\n",
    "    start_time = time.time()\n",
    "    for i in range(0, len(pc_data), batch_size):\n",
    "        batch = pc_data[i:i + batch_size]\n",
    "        index.upsert(vectors=batch)\n",
    "    end_time = time.time()\n",
    "    execution_time = end_time - start_time\n",
    "    print(f\"Time taken to upsert data: {execution_time:.6f}\")"
   ]
  },
  {
   "cell_type": "markdown",
   "id": "02837b27-d83b-4f4d-aefe-a39add5fd80b",
   "metadata": {},
   "source": [
    "### Statistics\n",
    "\n",
    "To generate some statistics about chunks and to display them"
   ]
  },
  {
   "cell_type": "code",
   "execution_count": 21,
   "id": "c25b406e-6869-426d-bc66-b367711e0ce8",
   "metadata": {},
   "outputs": [],
   "source": [
    "def generate_statistics(df):\n",
    "    strings = df[\"text\"].dropna()\n",
    "    \n",
    "    # Calculate string lengths\n",
    "    string_lengths = strings.str.len()\n",
    "\n",
    "    # Compute statistics\n",
    "    stats = {\n",
    "        \"total_number\": len(strings),\n",
    "        \"average_length\": string_lengths.mean(),\n",
    "        \"shortest_string\": strings[string_lengths.idxmin()] if not strings.empty else None,\n",
    "        \"longest_string\": strings[string_lengths.idxmax()] if not strings.empty else None,\n",
    "        \"average_word_count\": strings.str.split().apply(len).mean(),\n",
    "        \"length_distribution\": string_lengths.value_counts().sort_index().to_dict(),\n",
    "        \"has_special_chars_count\": strings.str.contains(r'[^\\w\\s]', na=False).sum(),\n",
    "    }\n",
    "\n",
    "    return stats"
   ]
  },
  {
   "cell_type": "code",
   "execution_count": 22,
   "id": "6511ecdb-f0c8-49e2-bfcd-b9d993724106",
   "metadata": {},
   "outputs": [],
   "source": [
    "def display_statistics(stats, bucket_size):\n",
    "    print(f\"Total number of non-empty strings: {stats['total_number']}\")\n",
    "    print(f\"Average length of the strings: {stats['average_length']}\")\n",
    "    print(f\"Shortest string:\\n{stats['shortest_string']}\\n\")\n",
    "    print(f\"Longest string:\\n{stats['longest_string']}\\n\")\n",
    "    print(f\"Average word count of the strings: {stats['average_word_count']}\")\n",
    "    print(f\"Number of strings with special characters: {stats['has_special_chars_count']}\")\n",
    "\n",
    "    length_df = pd.DataFrame(list(stats['length_distribution'].items()), columns=[\"Length\", \"Count\"])\n",
    "    length_df = length_df.sort_values(\"Length\")  # Ensure it's sorted by length\n",
    "\n",
    "    # Create bins using pandas.cut and sum the counts within each bin\n",
    "    length_df['Bucket'] = pd.cut(length_df['Length'], bins=np.arange(0, length_df[\"Length\"].max() + bucket_size, bucket_size), right=False)\n",
    "    binned_df = length_df.groupby('Bucket', as_index=False)['Count'].sum()\n",
    "\n",
    "    # Format the bins as strings for labeling the x-axis\n",
    "    binned_df['Bucket'] = binned_df['Bucket'].apply(lambda x: f\"{int(x.right)}\")\n",
    "\n",
    "    # Create the bar plot\n",
    "    plt.figure(figsize=(12, 6))\n",
    "    sns.barplot(data=binned_df, x=\"Bucket\", y=\"Count\", palette=\"viridis\")\n",
    "\n",
    "    # Customize the plot\n",
    "    plt.title(f\"Distribution of String Lengths (Binned to {bucket_size})\", fontsize=16)\n",
    "    plt.xlabel(\"Length Buckets\", fontsize=14)\n",
    "    plt.ylabel(\"Count\", fontsize=14)\n",
    "    plt.xticks(rotation=45, fontsize=10)\n",
    "    plt.tight_layout()\n",
    "    plt.show()"
   ]
  },
  {
   "cell_type": "markdown",
   "id": "a10eadad-68a5-46d7-b73c-5c5646f462e4",
   "metadata": {},
   "source": [
    "### Pipeline"
   ]
  },
  {
   "cell_type": "markdown",
   "id": "3178854e-e939-4369-8ea0-617f33ab60e1",
   "metadata": {},
   "source": [
    "#### Directories"
   ]
  },
  {
   "cell_type": "code",
   "execution_count": 23,
   "id": "d22114ec-a518-426f-bb0b-b25ac0af7d3f",
   "metadata": {},
   "outputs": [],
   "source": [
    "# sample_dir = \"../data/subset/\"\n",
    "sample_dir = f\"../data/input/full/\" # Run on entire dataset now\n",
    "lectures = sample_dir + \"lectures/\"\n",
    "references = sample_dir + \"references/\"\n",
    "qas = sample_dir + \"qas/\"\n",
    "notebooks = sample_dir + \"notebooks/\"\n",
    "exercises = sample_dir + \"exercises/\""
   ]
  },
  {
   "cell_type": "markdown",
   "id": "1607a1b2-ce6d-482e-bcb8-5d2c1a53370e",
   "metadata": {},
   "source": [
    "#### Generate chunks and some stats"
   ]
  },
  {
   "cell_type": "code",
   "execution_count": 24,
   "id": "fc287720-d641-46c4-a9d2-dffd78445f07",
   "metadata": {
    "scrolled": true
   },
   "outputs": [
    {
     "name": "stderr",
     "output_type": "stream",
     "text": [
      "Ignoring wrong pointing object 38 0 (offset 0)\n",
      "Ignoring wrong pointing object 65 0 (offset 0)\n"
     ]
    },
    {
     "name": "stdout",
     "output_type": "stream",
     "text": [
      "Working on: ../data/input/full/lectures/03-2019-1012_NMT_Lecture2.pdf\n"
     ]
    },
    {
     "name": "stderr",
     "output_type": "stream",
     "text": [
      "Ignoring wrong pointing object 6 0 (offset 0)\n",
      "Ignoring wrong pointing object 8 0 (offset 0)\n",
      "Ignoring wrong pointing object 14 0 (offset 0)\n",
      "Ignoring wrong pointing object 16 0 (offset 0)\n",
      "Ignoring wrong pointing object 18 0 (offset 0)\n",
      "Ignoring wrong pointing object 23 0 (offset 0)\n",
      "Ignoring wrong pointing object 25 0 (offset 0)\n",
      "Ignoring wrong pointing object 27 0 (offset 0)\n",
      "Ignoring wrong pointing object 32 0 (offset 0)\n",
      "Ignoring wrong pointing object 34 0 (offset 0)\n",
      "Ignoring wrong pointing object 36 0 (offset 0)\n",
      "Ignoring wrong pointing object 41 0 (offset 0)\n",
      "Ignoring wrong pointing object 43 0 (offset 0)\n",
      "Ignoring wrong pointing object 45 0 (offset 0)\n",
      "Ignoring wrong pointing object 50 0 (offset 0)\n",
      "Ignoring wrong pointing object 52 0 (offset 0)\n",
      "Ignoring wrong pointing object 54 0 (offset 0)\n",
      "Ignoring wrong pointing object 59 0 (offset 0)\n",
      "Ignoring wrong pointing object 61 0 (offset 0)\n",
      "Ignoring wrong pointing object 63 0 (offset 0)\n",
      "Ignoring wrong pointing object 68 0 (offset 0)\n",
      "Ignoring wrong pointing object 70 0 (offset 0)\n",
      "Ignoring wrong pointing object 72 0 (offset 0)\n",
      "Ignoring wrong pointing object 78 0 (offset 0)\n",
      "Ignoring wrong pointing object 80 0 (offset 0)\n",
      "Ignoring wrong pointing object 82 0 (offset 0)\n",
      "Ignoring wrong pointing object 87 0 (offset 0)\n",
      "Ignoring wrong pointing object 89 0 (offset 0)\n",
      "Ignoring wrong pointing object 91 0 (offset 0)\n",
      "Ignoring wrong pointing object 96 0 (offset 0)\n",
      "Ignoring wrong pointing object 98 0 (offset 0)\n",
      "Ignoring wrong pointing object 100 0 (offset 0)\n",
      "Ignoring wrong pointing object 105 0 (offset 0)\n",
      "Ignoring wrong pointing object 107 0 (offset 0)\n",
      "Ignoring wrong pointing object 109 0 (offset 0)\n",
      "Ignoring wrong pointing object 111 0 (offset 0)\n",
      "Ignoring wrong pointing object 116 0 (offset 0)\n",
      "Ignoring wrong pointing object 118 0 (offset 0)\n",
      "Ignoring wrong pointing object 120 0 (offset 0)\n"
     ]
    },
    {
     "name": "stdout",
     "output_type": "stream",
     "text": [
      "Working on: ../data/input/full/lectures/centauri-arcturan-align.pdf\n"
     ]
    },
    {
     "name": "stderr",
     "output_type": "stream",
     "text": [
      "Ignoring wrong pointing object 81 0 (offset 0)\n",
      "Ignoring wrong pointing object 10 0 (offset 0)\n",
      "Ignoring wrong pointing object 86 0 (offset 0)\n",
      "Ignoring wrong pointing object 54 0 (offset 0)\n",
      "Ignoring wrong pointing object 31 0 (offset 0)\n"
     ]
    },
    {
     "name": "stdout",
     "output_type": "stream",
     "text": [
      "Working on: ../data/input/full/lectures/knnlm.pdf\n",
      "Working on: ../data/input/full/lectures/editdist.pdf\n",
      "Working on: ../data/input/full/lectures/cross_attention.pdf\n",
      "Working on: ../data/input/full/lectures/fewshot.pdf\n"
     ]
    },
    {
     "name": "stderr",
     "output_type": "stream",
     "text": [
      "Ignoring wrong pointing object 27 0 (offset 0)\n",
      "parsing for Object Streams\n"
     ]
    },
    {
     "name": "stdout",
     "output_type": "stream",
     "text": [
      "Working on: ../data/input/full/lectures/05-phrase-based-models.pdf\n",
      "Working on: ../data/input/full/lectures/vae.pdf\n",
      "Working on: ../data/input/full/lectures/tokenization.pdf\n",
      "Working on: ../data/input/full/lectures/centauri-arcturan.pdf\n"
     ]
    },
    {
     "name": "stderr",
     "output_type": "stream",
     "text": [
      "Ignoring wrong pointing object 14 0 (offset 0)\n",
      "Ignoring wrong pointing object 9 0 (offset 0)\n",
      "Ignoring wrong pointing object 11 0 (offset 0)\n",
      "Ignoring wrong pointing object 117 0 (offset 0)\n",
      "Ignoring wrong pointing object 118 0 (offset 0)\n"
     ]
    },
    {
     "name": "stdout",
     "output_type": "stream",
     "text": [
      "Working on: ../data/input/full/lectures/benchmarks.pdf\n",
      "Working on: ../data/input/full/lectures/intro-learning-from-text.pdf\n",
      "Working on: ../data/input/full/lectures/ff.pdf\n"
     ]
    },
    {
     "name": "stderr",
     "output_type": "stream",
     "text": [
      "Ignoring wrong pointing object 8 0 (offset 0)\n",
      "Ignoring wrong pointing object 10 0 (offset 0)\n",
      "Ignoring wrong pointing object 31 0 (offset 0)\n",
      "Ignoring wrong pointing object 33 0 (offset 0)\n",
      "Ignoring wrong pointing object 25 0 (offset 0)\n",
      "Ignoring wrong pointing object 35 0 (offset 0)\n",
      "Ignoring wrong pointing object 44 0 (offset 0)\n",
      "Ignoring wrong pointing object 53 0 (offset 0)\n",
      "Ignoring wrong pointing object 62 0 (offset 0)\n",
      "Ignoring wrong pointing object 86 0 (offset 0)\n",
      "Ignoring wrong pointing object 94 0 (offset 0)\n",
      "Ignoring wrong pointing object 102 0 (offset 0)\n",
      "Ignoring wrong pointing object 110 0 (offset 0)\n",
      "Ignoring wrong pointing object 118 0 (offset 0)\n",
      "Ignoring wrong pointing object 126 0 (offset 0)\n",
      "Ignoring wrong pointing object 135 0 (offset 0)\n",
      "Ignoring wrong pointing object 153 0 (offset 0)\n",
      "Ignoring wrong pointing object 176 0 (offset 0)\n",
      "Ignoring wrong pointing object 184 0 (offset 0)\n",
      "Ignoring wrong pointing object 193 0 (offset 0)\n"
     ]
    },
    {
     "name": "stdout",
     "output_type": "stream",
     "text": [
      "Working on: ../data/input/full/lectures/mtintro.pdf\n",
      "Working on: ../data/input/full/lectures/cipher-solve.pdf\n",
      "Working on: ../data/input/full/lectures/parsing.pdf\n"
     ]
    },
    {
     "name": "stderr",
     "output_type": "stream",
     "text": [
      "Ignoring wrong pointing object 10 0 (offset 0)\n",
      "Ignoring wrong pointing object 12 0 (offset 0)\n",
      "Ignoring wrong pointing object 29 0 (offset 0)\n",
      "Ignoring wrong pointing object 31 0 (offset 0)\n",
      "Ignoring wrong pointing object 48 0 (offset 0)\n",
      "Ignoring wrong pointing object 85 0 (offset 0)\n",
      "Ignoring wrong pointing object 88 0 (offset 0)\n",
      "Ignoring wrong pointing object 95 0 (offset 0)\n",
      "Ignoring wrong pointing object 97 0 (offset 0)\n",
      "Ignoring wrong pointing object 121 0 (offset 0)\n",
      "Ignoring wrong pointing object 124 0 (offset 0)\n",
      "Ignoring wrong pointing object 131 0 (offset 0)\n",
      "Ignoring wrong pointing object 140 0 (offset 0)\n",
      "Ignoring wrong pointing object 147 0 (offset 0)\n",
      "Ignoring wrong pointing object 194 0 (offset 0)\n",
      "Ignoring wrong pointing object 196 0 (offset 0)\n",
      "Ignoring wrong pointing object 204 0 (offset 0)\n",
      "Ignoring wrong pointing object 206 0 (offset 0)\n",
      "Ignoring wrong pointing object 209 0 (offset 0)\n",
      "Ignoring wrong pointing object 216 0 (offset 0)\n",
      "Ignoring wrong pointing object 224 0 (offset 0)\n",
      "Ignoring wrong pointing object 229 0 (offset 0)\n",
      "Ignoring wrong pointing object 231 0 (offset 0)\n",
      "Ignoring wrong pointing object 252 0 (offset 0)\n",
      "Ignoring wrong pointing object 254 0 (offset 0)\n",
      "Ignoring wrong pointing object 261 0 (offset 0)\n",
      "Ignoring wrong pointing object 263 0 (offset 0)\n",
      "Ignoring wrong pointing object 282 0 (offset 0)\n",
      "Ignoring wrong pointing object 287 0 (offset 0)\n",
      "Ignoring wrong pointing object 305 0 (offset 0)\n",
      "Ignoring wrong pointing object 307 0 (offset 0)\n",
      "Ignoring wrong pointing object 316 0 (offset 0)\n",
      "Ignoring wrong pointing object 330 0 (offset 0)\n",
      "Ignoring wrong pointing object 332 0 (offset 0)\n",
      "Ignoring wrong pointing object 336 0 (offset 0)\n",
      "Ignoring wrong pointing object 344 0 (offset 0)\n",
      "Ignoring wrong pointing object 346 0 (offset 0)\n"
     ]
    },
    {
     "name": "stdout",
     "output_type": "stream",
     "text": [
      "Working on: ../data/input/full/lectures/fastattn.pdf\n",
      "Working on: ../data/input/full/lectures/editdistance.pdf\n"
     ]
    },
    {
     "name": "stderr",
     "output_type": "stream",
     "text": [
      "Ignoring wrong pointing object 147 0 (offset 0)\n",
      "Ignoring wrong pointing object 522 0 (offset 0)\n"
     ]
    },
    {
     "name": "stdout",
     "output_type": "stream",
     "text": [
      "Working on: ../data/input/full/lectures/PRO-emnlp2011-slides.pdf\n"
     ]
    },
    {
     "name": "stderr",
     "output_type": "stream",
     "text": [
      "Ignoring wrong pointing object 21 0 (offset 0)\n",
      "Ignoring wrong pointing object 132 0 (offset 0)\n"
     ]
    },
    {
     "name": "stdout",
     "output_type": "stream",
     "text": [
      "Working on: ../data/input/full/lectures/self_attention.pdf\n",
      "Working on: ../data/input/full/lectures/instruct_tuning.pdf\n"
     ]
    },
    {
     "name": "stderr",
     "output_type": "stream",
     "text": [
      "Ignoring wrong pointing object 9 0 (offset 0)\n",
      "Ignoring wrong pointing object 11 0 (offset 0)\n",
      "Ignoring wrong pointing object 239 0 (offset 0)\n",
      "Ignoring wrong pointing object 240 0 (offset 0)\n",
      "Ignoring wrong pointing object 15 0 (offset 0)\n",
      "Ignoring wrong pointing object 27 0 (offset 0)\n",
      "Ignoring wrong pointing object 42 0 (offset 0)\n",
      "Ignoring wrong pointing object 46 0 (offset 0)\n",
      "Ignoring wrong pointing object 71 0 (offset 0)\n",
      "Ignoring wrong pointing object 73 0 (offset 0)\n",
      "Ignoring wrong pointing object 80 0 (offset 0)\n",
      "Ignoring wrong pointing object 139 0 (offset 0)\n",
      "Ignoring wrong pointing object 146 0 (offset 0)\n"
     ]
    },
    {
     "name": "stdout",
     "output_type": "stream",
     "text": [
      "Working on: ../data/input/full/lectures/intro-to-nlp.pdf\n",
      "Working on: ../data/input/full/lectures/scaling.pdf\n",
      "Working on: ../data/input/full/lectures/03-2019-1010_NMT_Lecture.pdf\n",
      "Working on: ../data/input/full/lectures/ambiguity.pdf\n",
      "Working on: ../data/input/full/lectures/prob.pdf\n"
     ]
    },
    {
     "name": "stderr",
     "output_type": "stream",
     "text": [
      "Ignoring wrong pointing object 39 0 (offset 0)\n",
      "parsing for Object Streams\n"
     ]
    },
    {
     "name": "stdout",
     "output_type": "stream",
     "text": [
      "Working on: ../data/input/full/lectures/compression.pdf\n",
      "Working on: ../data/input/full/lectures/data.pdf\n",
      "Working on: ../data/input/full/lectures/06-decoding.pdf\n",
      "Working on: ../data/input/full/lectures/09-discriminative-training.pdf\n",
      "Working on: ../data/input/full/lectures/wordvectors.pdf\n"
     ]
    },
    {
     "name": "stderr",
     "output_type": "stream",
     "text": [
      "Ignoring wrong pointing object 9 0 (offset 0)\n",
      "Ignoring wrong pointing object 11 0 (offset 0)\n",
      "Ignoring wrong pointing object 177 0 (offset 0)\n"
     ]
    },
    {
     "name": "stdout",
     "output_type": "stream",
     "text": [
      "Working on: ../data/input/full/lectures/intro-history-of-nlp.pdf\n",
      "Working on: ../data/input/full/lectures/linearmodels.pdf\n",
      "Working on: ../data/input/full/lectures/ibm123.pdf\n"
     ]
    },
    {
     "name": "stderr",
     "output_type": "stream",
     "text": [
      "Ignoring wrong pointing object 9 0 (offset 0)\n",
      "Ignoring wrong pointing object 11 0 (offset 0)\n",
      "Ignoring wrong pointing object 30 0 (offset 0)\n",
      "Ignoring wrong pointing object 58 0 (offset 0)\n"
     ]
    },
    {
     "name": "stdout",
     "output_type": "stream",
     "text": [
      "Working on: ../data/input/full/lectures/wikihistory.pdf\n",
      "Working on: ../data/input/full/lectures/nlm.pdf\n"
     ]
    },
    {
     "name": "stderr",
     "output_type": "stream",
     "text": [
      "Ignoring wrong pointing object 175 0 (offset 0)\n",
      "Ignoring wrong pointing object 250 0 (offset 0)\n",
      "Ignoring wrong pointing object 256 0 (offset 0)\n",
      "Ignoring wrong pointing object 259 0 (offset 0)\n",
      "Ignoring wrong pointing object 275 0 (offset 0)\n",
      "Ignoring wrong pointing object 297 0 (offset 0)\n",
      "Ignoring wrong pointing object 322 0 (offset 0)\n",
      "Ignoring wrong pointing object 325 0 (offset 0)\n",
      "Ignoring wrong pointing object 329 0 (offset 0)\n",
      "Ignoring wrong pointing object 334 0 (offset 0)\n",
      "Ignoring wrong pointing object 337 0 (offset 0)\n",
      "Ignoring wrong pointing object 341 0 (offset 0)\n",
      "Ignoring wrong pointing object 344 0 (offset 0)\n",
      "Ignoring wrong pointing object 351 0 (offset 0)\n",
      "Ignoring wrong pointing object 356 0 (offset 0)\n",
      "Ignoring wrong pointing object 383 0 (offset 0)\n",
      "Ignoring wrong pointing object 430 0 (offset 0)\n",
      "Ignoring wrong pointing object 434 0 (offset 0)\n",
      "Ignoring wrong pointing object 439 0 (offset 0)\n",
      "Ignoring wrong pointing object 442 0 (offset 0)\n",
      "Ignoring wrong pointing object 452 0 (offset 0)\n",
      "Ignoring wrong pointing object 488 0 (offset 0)\n",
      "Ignoring wrong pointing object 490 0 (offset 0)\n",
      "Ignoring wrong pointing object 602 0 (offset 0)\n",
      "Ignoring wrong pointing object 610 0 (offset 0)\n",
      "Ignoring wrong pointing object 613 0 (offset 0)\n",
      "Ignoring wrong pointing object 617 0 (offset 0)\n",
      "Ignoring wrong pointing object 623 0 (offset 0)\n",
      "Ignoring wrong pointing object 627 0 (offset 0)\n",
      "Ignoring wrong pointing object 631 0 (offset 0)\n",
      "Ignoring wrong pointing object 633 0 (offset 0)\n",
      "Ignoring wrong pointing object 637 0 (offset 0)\n",
      "Ignoring wrong pointing object 666 0 (offset 0)\n",
      "Ignoring wrong pointing object 668 0 (offset 0)\n",
      "Ignoring wrong pointing object 721 0 (offset 0)\n",
      "Ignoring wrong pointing object 725 0 (offset 0)\n",
      "Ignoring wrong pointing object 728 0 (offset 0)\n",
      "Ignoring wrong pointing object 738 0 (offset 0)\n",
      "Ignoring wrong pointing object 742 0 (offset 0)\n",
      "Ignoring wrong pointing object 808 0 (offset 0)\n",
      "Ignoring wrong pointing object 812 0 (offset 0)\n",
      "Ignoring wrong pointing object 816 0 (offset 0)\n",
      "Ignoring wrong pointing object 829 0 (offset 0)\n",
      "Ignoring wrong pointing object 833 0 (offset 0)\n",
      "Ignoring wrong pointing object 836 0 (offset 0)\n",
      "Ignoring wrong pointing object 840 0 (offset 0)\n",
      "Ignoring wrong pointing object 843 0 (offset 0)\n",
      "Ignoring wrong pointing object 846 0 (offset 0)\n",
      "Ignoring wrong pointing object 876 0 (offset 0)\n",
      "Ignoring wrong pointing object 883 0 (offset 0)\n",
      "Ignoring wrong pointing object 885 0 (offset 0)\n",
      "Ignoring wrong pointing object 890 0 (offset 0)\n",
      "Ignoring wrong pointing object 892 0 (offset 0)\n",
      "Ignoring wrong pointing object 899 0 (offset 0)\n",
      "Ignoring wrong pointing object 901 0 (offset 0)\n",
      "Ignoring wrong pointing object 907 0 (offset 0)\n",
      "Ignoring wrong pointing object 909 0 (offset 0)\n",
      "Ignoring wrong pointing object 913 0 (offset 0)\n",
      "Ignoring wrong pointing object 915 0 (offset 0)\n",
      "Ignoring wrong pointing object 922 0 (offset 0)\n",
      "Ignoring wrong pointing object 925 0 (offset 0)\n",
      "Ignoring wrong pointing object 931 0 (offset 0)\n",
      "Ignoring wrong pointing object 943 0 (offset 0)\n",
      "Ignoring wrong pointing object 950 0 (offset 0)\n",
      "Ignoring wrong pointing object 971 0 (offset 0)\n",
      "Ignoring wrong pointing object 1088 0 (offset 0)\n",
      "Ignoring wrong pointing object 1095 0 (offset 0)\n",
      "Ignoring wrong pointing object 1097 0 (offset 0)\n",
      "Ignoring wrong pointing object 1103 0 (offset 0)\n",
      "Ignoring wrong pointing object 1105 0 (offset 0)\n",
      "Ignoring wrong pointing object 1110 0 (offset 0)\n",
      "Ignoring wrong pointing object 1120 0 (offset 0)\n",
      "Ignoring wrong pointing object 1123 0 (offset 0)\n",
      "Ignoring wrong pointing object 1128 0 (offset 0)\n",
      "Ignoring wrong pointing object 1138 0 (offset 0)\n",
      "Ignoring wrong pointing object 1147 0 (offset 0)\n",
      "Ignoring wrong pointing object 1152 0 (offset 0)\n",
      "Ignoring wrong pointing object 1154 0 (offset 0)\n",
      "Ignoring wrong pointing object 1157 0 (offset 0)\n",
      "Ignoring wrong pointing object 1160 0 (offset 0)\n",
      "Ignoring wrong pointing object 1175 0 (offset 0)\n",
      "Ignoring wrong pointing object 1177 0 (offset 0)\n",
      "Ignoring wrong pointing object 1179 0 (offset 0)\n",
      "Ignoring wrong pointing object 1185 0 (offset 0)\n",
      "Ignoring wrong pointing object 1187 0 (offset 0)\n",
      "Ignoring wrong pointing object 1194 0 (offset 0)\n",
      "Ignoring wrong pointing object 1200 0 (offset 0)\n",
      "Ignoring wrong pointing object 1207 0 (offset 0)\n",
      "Ignoring wrong pointing object 1237 0 (offset 0)\n",
      "Ignoring wrong pointing object 1240 0 (offset 0)\n",
      "Ignoring wrong pointing object 1245 0 (offset 0)\n",
      "Ignoring wrong pointing object 1247 0 (offset 0)\n",
      "Ignoring wrong pointing object 1253 0 (offset 0)\n",
      "Ignoring wrong pointing object 1256 0 (offset 0)\n",
      "Ignoring wrong pointing object 1283 0 (offset 0)\n",
      "Ignoring wrong pointing object 1285 0 (offset 0)\n",
      "Ignoring wrong pointing object 1291 0 (offset 0)\n",
      "Ignoring wrong pointing object 1293 0 (offset 0)\n",
      "Ignoring wrong pointing object 1311 0 (offset 0)\n",
      "Ignoring wrong pointing object 1313 0 (offset 0)\n",
      "Ignoring wrong pointing object 1316 0 (offset 0)\n",
      "Ignoring wrong pointing object 1321 0 (offset 0)\n",
      "Ignoring wrong pointing object 1323 0 (offset 0)\n",
      "Ignoring wrong pointing object 1326 0 (offset 0)\n",
      "Ignoring wrong pointing object 1377 0 (offset 0)\n",
      "Ignoring wrong pointing object 1456 0 (offset 0)\n",
      "Ignoring wrong pointing object 1459 0 (offset 0)\n",
      "Ignoring wrong pointing object 1464 0 (offset 0)\n",
      "Ignoring wrong pointing object 1468 0 (offset 0)\n",
      "Ignoring wrong pointing object 1472 0 (offset 0)\n",
      "Ignoring wrong pointing object 1492 0 (offset 0)\n",
      "Ignoring wrong pointing object 1534 0 (offset 0)\n",
      "Ignoring wrong pointing object 1537 0 (offset 0)\n",
      "Ignoring wrong pointing object 1543 0 (offset 0)\n",
      "Ignoring wrong pointing object 1598 0 (offset 0)\n",
      "Ignoring wrong pointing object 1602 0 (offset 0)\n",
      "Ignoring wrong pointing object 1605 0 (offset 0)\n",
      "Ignoring wrong pointing object 1608 0 (offset 0)\n",
      "Ignoring wrong pointing object 1611 0 (offset 0)\n",
      "Ignoring wrong pointing object 1619 0 (offset 0)\n",
      "Ignoring wrong pointing object 1622 0 (offset 0)\n",
      "Ignoring wrong pointing object 1625 0 (offset 0)\n",
      "Ignoring wrong pointing object 1628 0 (offset 0)\n",
      "Ignoring wrong pointing object 1632 0 (offset 0)\n",
      "Ignoring wrong pointing object 1640 0 (offset 0)\n",
      "Ignoring wrong pointing object 1643 0 (offset 0)\n",
      "Ignoring wrong pointing object 1646 0 (offset 0)\n",
      "Ignoring wrong pointing object 1649 0 (offset 0)\n",
      "Ignoring wrong pointing object 1653 0 (offset 0)\n",
      "Ignoring wrong pointing object 1661 0 (offset 0)\n",
      "Ignoring wrong pointing object 1664 0 (offset 0)\n",
      "Ignoring wrong pointing object 1667 0 (offset 0)\n",
      "Ignoring wrong pointing object 1670 0 (offset 0)\n",
      "Ignoring wrong pointing object 1674 0 (offset 0)\n",
      "Ignoring wrong pointing object 1687 0 (offset 0)\n"
     ]
    },
    {
     "name": "stdout",
     "output_type": "stream",
     "text": [
      "Working on: ../data/input/full/lectures/linearseq.pdf\n",
      "Working on: ../data/input/full/lectures/decoding.pdf\n",
      "Working on: ../data/input/full/lectures/Luong-Cho-Manning-NMT-ACL2016-v4-edited.pdf\n"
     ]
    },
    {
     "name": "stderr",
     "output_type": "stream",
     "text": [
      "parsing for Object Streams\n"
     ]
    },
    {
     "name": "stdout",
     "output_type": "stream",
     "text": [
      "Working on: ../data/input/full/lectures/nlm-mikolov.pdf\n"
     ]
    },
    {
     "name": "stderr",
     "output_type": "stream",
     "text": [
      "Ignoring wrong pointing object 34 0 (offset 0)\n",
      "Ignoring wrong pointing object 239 0 (offset 0)\n",
      "Ignoring wrong pointing object 38 0 (offset 0)\n",
      "Ignoring wrong pointing object 83 0 (offset 0)\n"
     ]
    },
    {
     "name": "stdout",
     "output_type": "stream",
     "text": [
      "Working on: ../data/input/full/lectures/nlptasks.pdf\n",
      "Working on: ../data/input/full/lectures/pre_training.pdf\n",
      "Working on: ../data/input/full/lectures/lm.pdf\n"
     ]
    },
    {
     "name": "stderr",
     "output_type": "stream",
     "text": [
      "Ignoring wrong pointing object 105 0 (offset 0)\n",
      "Ignoring wrong pointing object 212 0 (offset 0)\n"
     ]
    },
    {
     "name": "stdout",
     "output_type": "stream",
     "text": [
      "Working on: ../data/input/full/lectures/08-evaluation.pdf\n",
      "Working on: ../data/input/full/lectures/peft.pdf\n",
      "Working on: ../data/input/full/lectures/t2t.pdf\n",
      "Working on: ../data/input/full/lectures/hmm.pdf\n",
      "Time taken to generate chunks: 8.645953 seconds\n"
     ]
    }
   ],
   "source": [
    "lectures_chunks_df = generate_chunks_df(lectures)"
   ]
  },
  {
   "cell_type": "code",
   "execution_count": 25,
   "id": "154ea800-261e-4d5f-9536-da6189df1b21",
   "metadata": {
    "scrolled": true
   },
   "outputs": [
    {
     "name": "stdout",
     "output_type": "stream",
     "text": [
      "Working on: ../data/input/full/references/1902.00751v2.pdf\n",
      "Working on: ../data/input/full/references/lecun-98b.pdf\n",
      "Working on: ../data/input/full/references/1323_glue_a_multi_task_benchmark_an.pdf\n",
      "Working on: ../data/input/full/references/AI and compute _ OpenAI.html\n",
      "Working on: ../data/input/full/references/2108.12409v2.pdf\n",
      "Working on: ../data/input/full/references/1907.11692v1.pdf\n",
      "Working on: ../data/input/full/references/1704.04368v2.pdf\n",
      "Working on: ../data/input/full/references/2021.insights-1.5.pdf\n",
      "Working on: ../data/input/full/references/2021.naacl-main.407.pdf\n",
      "Working on: ../data/input/full/references/Text generation strategies.html\n",
      "Working on: ../data/input/full/references/1705.03122v3.pdf\n",
      "Working on: ../data/input/full/references/language_models_are_unsupervised_multitask_learners.pdf\n",
      "Working on: ../data/input/full/references/1318_generalization_through_memoriz.pdf\n",
      "Working on: ../data/input/full/references/superglue.pdf\n",
      "Working on: ../data/input/full/references/2021.acl-long.427.pdf\n",
      "Working on: ../data/input/full/references/2022.naacl-main.406.pdf\n",
      "Working on: ../data/input/full/references/Generation with LLMs.html\n",
      "Working on: ../data/input/full/references/CS231n Convolutional Neural Networks for Visual Recognition.html\n",
      "Working on: ../data/input/full/references/P16-1144.pdf\n",
      "Working on: ../data/input/full/references/2302.09210v1.pdf\n",
      "Working on: ../data/input/full/references/656_rethinking_attention_with_perf.pdf\n",
      "Working on: ../data/input/full/references/1312.3005v3.pdf\n",
      "Working on: ../data/input/full/references/2209.00099v2.pdf\n",
      "Working on: ../data/input/full/references/1508.04025v5.pdf\n",
      "Working on: ../data/input/full/references/Byte-Pair Encoding tokenization - Hugging Face NLP Course.html\n",
      "Working on: ../data/input/full/references/2020.sustainlp-1.23.pdf\n",
      "Working on: ../data/input/full/references/1802.05365v2.pdf\n",
      "Working on: ../data/input/full/references/1807.03039v2.pdf\n",
      "Working on: ../data/input/full/references/The AI Brick Wall – A Practical Limit For Scaling Dense Transformer Models, and How GPT 4 Will Break Past It – SemiAnalysis.html\n",
      "Working on: ../data/input/full/references/ff.pdf\n",
      "Working on: ../data/input/full/references/The FLOPs Calculus of Language Model Training _ by Dzmitry Bahdanau _ Medium.html\n",
      "Working on: ../data/input/full/references/tacl_a_00413.pdf\n"
     ]
    },
    {
     "name": "stderr",
     "output_type": "stream",
     "text": [
      "Ignoring wrong pointing object 18 0 (offset 0)\n",
      "Ignoring wrong pointing object 63 0 (offset 0)\n",
      "Ignoring wrong pointing object 118 0 (offset 0)\n",
      "Ignoring wrong pointing object 121 0 (offset 0)\n",
      "Ignoring wrong pointing object 300 0 (offset 0)\n",
      "Ignoring wrong pointing object 306 0 (offset 0)\n",
      "Ignoring wrong pointing object 309 0 (offset 0)\n",
      "Ignoring wrong pointing object 319 0 (offset 0)\n",
      "Ignoring wrong pointing object 321 0 (offset 0)\n"
     ]
    },
    {
     "name": "stdout",
     "output_type": "stream",
     "text": [
      "Working on: ../data/input/full/references/yang17d.pdf\n",
      "Working on: ../data/input/full/references/dark14.pdf\n",
      "Working on: ../data/input/full/references/2210.07316v3.pdf\n"
     ]
    },
    {
     "name": "stderr",
     "output_type": "stream",
     "text": [
      "incorrect startxref pointer(1)\n",
      "parsing for Object Streams\n"
     ]
    },
    {
     "name": "stdout",
     "output_type": "stream",
     "text": [
      "Working on: ../data/input/full/references/ch14.pdf\n",
      "Working on: ../data/input/full/references/1503.02531v1.pdf\n"
     ]
    },
    {
     "name": "stderr",
     "output_type": "stream",
     "text": [
      "Warning: SAX input contains nested A elements -- You have probably hit a bug in your HTML parser (e.g., NekoHTML bug #2909310). Please clean the HTML externally and feed it to BoilerPy3 again. Trying to recover somehow...\n"
     ]
    },
    {
     "name": "stdout",
     "output_type": "stream",
     "text": [
      "Working on: ../data/input/full/references/The Bitter Lesson.html\n",
      "Working on: ../data/input/full/references/Generating Human-level Text with Contrastive Search in Transformers 🤗.html\n",
      "Working on: ../data/input/full/references/1909.08478v1.pdf\n",
      "Working on: ../data/input/full/references/0108005v1.pdf\n",
      "Working on: ../data/input/full/references/language_understanding_paper.pdf\n",
      "Working on: ../data/input/full/references/1409.0473v7.pdf\n",
      "Working on: ../data/input/full/references/1810.04805v2.pdf\n",
      "Working on: ../data/input/full/references/2009.06732v3.pdf\n",
      "Working on: ../data/input/full/references/1511.01432v1.pdf\n"
     ]
    },
    {
     "name": "stderr",
     "output_type": "stream",
     "text": [
      "Ignoring wrong pointing object 34 0 (offset 0)\n",
      "Ignoring wrong pointing object 37 0 (offset 0)\n",
      "Ignoring wrong pointing object 43 0 (offset 0)\n",
      "Ignoring wrong pointing object 101 0 (offset 0)\n"
     ]
    },
    {
     "name": "stdout",
     "output_type": "stream",
     "text": [
      "Working on: ../data/input/full/references/jaan.io_altosaar-variational-autoencoder.pdf\n",
      "Working on: ../data/input/full/references/2003.10555v1.pdf\n",
      "Working on: ../data/input/full/references/2205.12410v2.pdf\n",
      "Working on: ../data/input/full/references/2020.acl-main.463.pdf\n",
      "Working on: ../data/input/full/references/1409.3215v3.pdf\n",
      "Working on: ../data/input/full/references/2104.03113v2.pdf\n",
      "Working on: ../data/input/full/references/🏎 Smaller, faster, cheaper, lighter_ Introducing DistilBERT, a distilled version of BERT _ by Victor Sanh _ HuggingFace _ Medium.html\n",
      "Working on: ../data/input/full/references/P19-1285.pdf\n",
      "Working on: ../data/input/full/references/A_Mathematical_Theory_of_Communication.pdf\n",
      "Working on: ../data/input/full/references/1838_reformer_the_efficient_transfo.pdf\n",
      "Working on: ../data/input/full/references/1607.06450v1.pdf\n",
      "Working on: ../data/input/full/references/2112.06905v2.pdf\n",
      "Working on: ../data/input/full/references/PyTorch internals _ ezyang’s blog.html\n",
      "Working on: ../data/input/full/references/miao16.pdf\n",
      "Working on: ../data/input/full/references/2305.11206v1.pdf\n"
     ]
    },
    {
     "name": "stderr",
     "output_type": "stream",
     "text": [
      "Ignoring wrong pointing object 9 0 (offset 0)\n",
      "Ignoring wrong pointing object 20 0 (offset 0)\n",
      "Ignoring wrong pointing object 22 0 (offset 0)\n",
      "Ignoring wrong pointing object 30 0 (offset 0)\n",
      "Ignoring wrong pointing object 36 0 (offset 0)\n",
      "Ignoring wrong pointing object 39 0 (offset 0)\n",
      "Ignoring wrong pointing object 45 0 (offset 0)\n",
      "Ignoring wrong pointing object 48 0 (offset 0)\n",
      "Ignoring wrong pointing object 60 0 (offset 0)\n",
      "Ignoring wrong pointing object 67 0 (offset 0)\n",
      "Ignoring wrong pointing object 69 0 (offset 0)\n",
      "Ignoring wrong pointing object 71 0 (offset 0)\n",
      "Ignoring wrong pointing object 78 0 (offset 0)\n",
      "Ignoring wrong pointing object 85 0 (offset 0)\n",
      "Ignoring wrong pointing object 92 0 (offset 0)\n",
      "Ignoring wrong pointing object 94 0 (offset 0)\n",
      "Ignoring wrong pointing object 101 0 (offset 0)\n",
      "Ignoring wrong pointing object 103 0 (offset 0)\n",
      "Ignoring wrong pointing object 111 0 (offset 0)\n",
      "Ignoring wrong pointing object 113 0 (offset 0)\n",
      "Ignoring wrong pointing object 120 0 (offset 0)\n",
      "Ignoring wrong pointing object 122 0 (offset 0)\n",
      "Ignoring wrong pointing object 125 0 (offset 0)\n",
      "Ignoring wrong pointing object 132 0 (offset 0)\n",
      "Ignoring wrong pointing object 134 0 (offset 0)\n",
      "Ignoring wrong pointing object 142 0 (offset 0)\n",
      "Ignoring wrong pointing object 144 0 (offset 0)\n",
      "Ignoring wrong pointing object 147 0 (offset 0)\n",
      "Ignoring wrong pointing object 155 0 (offset 0)\n",
      "Ignoring wrong pointing object 157 0 (offset 0)\n",
      "Ignoring wrong pointing object 160 0 (offset 0)\n",
      "Ignoring wrong pointing object 167 0 (offset 0)\n",
      "Ignoring wrong pointing object 169 0 (offset 0)\n",
      "Ignoring wrong pointing object 171 0 (offset 0)\n",
      "Ignoring wrong pointing object 173 0 (offset 0)\n",
      "Ignoring wrong pointing object 180 0 (offset 0)\n",
      "Ignoring wrong pointing object 182 0 (offset 0)\n",
      "Ignoring wrong pointing object 184 0 (offset 0)\n",
      "Ignoring wrong pointing object 186 0 (offset 0)\n",
      "Ignoring wrong pointing object 188 0 (offset 0)\n",
      "Ignoring wrong pointing object 190 0 (offset 0)\n",
      "Ignoring wrong pointing object 197 0 (offset 0)\n",
      "Ignoring wrong pointing object 199 0 (offset 0)\n",
      "Ignoring wrong pointing object 207 0 (offset 0)\n",
      "Ignoring wrong pointing object 227 0 (offset 0)\n",
      "Ignoring wrong pointing object 229 0 (offset 0)\n",
      "Ignoring wrong pointing object 236 0 (offset 0)\n",
      "Ignoring wrong pointing object 238 0 (offset 0)\n",
      "Ignoring wrong pointing object 245 0 (offset 0)\n",
      "Ignoring wrong pointing object 247 0 (offset 0)\n",
      "Ignoring wrong pointing object 254 0 (offset 0)\n",
      "Ignoring wrong pointing object 256 0 (offset 0)\n",
      "Ignoring wrong pointing object 258 0 (offset 0)\n",
      "Ignoring wrong pointing object 260 0 (offset 0)\n",
      "Ignoring wrong pointing object 267 0 (offset 0)\n",
      "Ignoring wrong pointing object 269 0 (offset 0)\n",
      "Ignoring wrong pointing object 271 0 (offset 0)\n",
      "Ignoring wrong pointing object 278 0 (offset 0)\n",
      "Ignoring wrong pointing object 285 0 (offset 0)\n",
      "Ignoring wrong pointing object 287 0 (offset 0)\n",
      "Ignoring wrong pointing object 289 0 (offset 0)\n",
      "Ignoring wrong pointing object 297 0 (offset 0)\n",
      "Ignoring wrong pointing object 299 0 (offset 0)\n",
      "Ignoring wrong pointing object 311 0 (offset 0)\n",
      "Ignoring wrong pointing object 323 0 (offset 0)\n",
      "Ignoring wrong pointing object 335 0 (offset 0)\n",
      "Ignoring wrong pointing object 349 0 (offset 0)\n",
      "Ignoring wrong pointing object 351 0 (offset 0)\n",
      "Ignoring wrong pointing object 360 0 (offset 0)\n",
      "Ignoring wrong pointing object 362 0 (offset 0)\n",
      "Ignoring wrong pointing object 371 0 (offset 0)\n",
      "Ignoring wrong pointing object 378 0 (offset 0)\n",
      "Ignoring wrong pointing object 380 0 (offset 0)\n",
      "Ignoring wrong pointing object 382 0 (offset 0)\n",
      "Ignoring wrong pointing object 390 0 (offset 0)\n",
      "Ignoring wrong pointing object 392 0 (offset 0)\n",
      "Ignoring wrong pointing object 399 0 (offset 0)\n",
      "Ignoring wrong pointing object 406 0 (offset 0)\n",
      "Ignoring wrong pointing object 408 0 (offset 0)\n",
      "Ignoring wrong pointing object 415 0 (offset 0)\n",
      "Ignoring wrong pointing object 417 0 (offset 0)\n",
      "Ignoring wrong pointing object 419 0 (offset 0)\n",
      "Ignoring wrong pointing object 426 0 (offset 0)\n",
      "Ignoring wrong pointing object 428 0 (offset 0)\n",
      "Ignoring wrong pointing object 430 0 (offset 0)\n",
      "Ignoring wrong pointing object 432 0 (offset 0)\n",
      "Ignoring wrong pointing object 439 0 (offset 0)\n",
      "Ignoring wrong pointing object 441 0 (offset 0)\n",
      "Ignoring wrong pointing object 445 0 (offset 0)\n",
      "Ignoring wrong pointing object 457 0 (offset 0)\n",
      "Ignoring wrong pointing object 459 0 (offset 0)\n",
      "Ignoring wrong pointing object 473 0 (offset 0)\n",
      "Ignoring wrong pointing object 475 0 (offset 0)\n",
      "Ignoring wrong pointing object 477 0 (offset 0)\n",
      "Ignoring wrong pointing object 485 0 (offset 0)\n",
      "Ignoring wrong pointing object 487 0 (offset 0)\n",
      "Ignoring wrong pointing object 494 0 (offset 0)\n",
      "Ignoring wrong pointing object 501 0 (offset 0)\n",
      "Ignoring wrong pointing object 512 0 (offset 0)\n",
      "Ignoring wrong pointing object 521 0 (offset 0)\n",
      "Ignoring wrong pointing object 531 0 (offset 0)\n",
      "Ignoring wrong pointing object 537 0 (offset 0)\n",
      "Ignoring wrong pointing object 544 0 (offset 0)\n",
      "Ignoring wrong pointing object 550 0 (offset 0)\n",
      "Ignoring wrong pointing object 552 0 (offset 0)\n",
      "Ignoring wrong pointing object 559 0 (offset 0)\n",
      "Ignoring wrong pointing object 561 0 (offset 0)\n",
      "Ignoring wrong pointing object 563 0 (offset 0)\n",
      "Ignoring wrong pointing object 565 0 (offset 0)\n",
      "Ignoring wrong pointing object 571 0 (offset 0)\n",
      "Ignoring wrong pointing object 593 0 (offset 0)\n",
      "Ignoring wrong pointing object 603 0 (offset 0)\n",
      "Ignoring wrong pointing object 606 0 (offset 0)\n",
      "Ignoring wrong pointing object 617 0 (offset 0)\n",
      "Ignoring wrong pointing object 620 0 (offset 0)\n",
      "Ignoring wrong pointing object 627 0 (offset 0)\n",
      "Ignoring wrong pointing object 629 0 (offset 0)\n",
      "Ignoring wrong pointing object 631 0 (offset 0)\n",
      "Ignoring wrong pointing object 636 0 (offset 0)\n",
      "Ignoring wrong pointing object 640 0 (offset 0)\n",
      "Ignoring wrong pointing object 643 0 (offset 0)\n",
      "Ignoring wrong pointing object 645 0 (offset 0)\n",
      "Ignoring wrong pointing object 650 0 (offset 0)\n",
      "Ignoring wrong pointing object 654 0 (offset 0)\n",
      "Ignoring wrong pointing object 657 0 (offset 0)\n",
      "Ignoring wrong pointing object 659 0 (offset 0)\n",
      "Ignoring wrong pointing object 666 0 (offset 0)\n",
      "Ignoring wrong pointing object 668 0 (offset 0)\n",
      "Ignoring wrong pointing object 679 0 (offset 0)\n",
      "Ignoring wrong pointing object 681 0 (offset 0)\n",
      "Ignoring wrong pointing object 684 0 (offset 0)\n",
      "Ignoring wrong pointing object 689 0 (offset 0)\n",
      "Ignoring wrong pointing object 716 0 (offset 0)\n",
      "Ignoring wrong pointing object 725 0 (offset 0)\n",
      "Ignoring wrong pointing object 727 0 (offset 0)\n",
      "Ignoring wrong pointing object 729 0 (offset 0)\n",
      "Ignoring wrong pointing object 736 0 (offset 0)\n",
      "Ignoring wrong pointing object 738 0 (offset 0)\n",
      "Ignoring wrong pointing object 740 0 (offset 0)\n",
      "Ignoring wrong pointing object 748 0 (offset 0)\n",
      "Ignoring wrong pointing object 752 0 (offset 0)\n",
      "Ignoring wrong pointing object 760 0 (offset 0)\n",
      "Ignoring wrong pointing object 762 0 (offset 0)\n",
      "Ignoring wrong pointing object 770 0 (offset 0)\n",
      "Ignoring wrong pointing object 774 0 (offset 0)\n",
      "Ignoring wrong pointing object 781 0 (offset 0)\n",
      "Ignoring wrong pointing object 783 0 (offset 0)\n",
      "Ignoring wrong pointing object 790 0 (offset 0)\n",
      "Ignoring wrong pointing object 799 0 (offset 0)\n",
      "Ignoring wrong pointing object 801 0 (offset 0)\n",
      "Ignoring wrong pointing object 803 0 (offset 0)\n",
      "Ignoring wrong pointing object 810 0 (offset 0)\n",
      "Ignoring wrong pointing object 812 0 (offset 0)\n",
      "Ignoring wrong pointing object 814 0 (offset 0)\n",
      "Ignoring wrong pointing object 816 0 (offset 0)\n",
      "Ignoring wrong pointing object 826 0 (offset 0)\n",
      "Ignoring wrong pointing object 828 0 (offset 0)\n",
      "Ignoring wrong pointing object 830 0 (offset 0)\n",
      "Ignoring wrong pointing object 832 0 (offset 0)\n",
      "Ignoring wrong pointing object 839 0 (offset 0)\n",
      "Ignoring wrong pointing object 841 0 (offset 0)\n",
      "Ignoring wrong pointing object 849 0 (offset 0)\n",
      "Ignoring wrong pointing object 854 0 (offset 0)\n",
      "Ignoring wrong pointing object 859 0 (offset 0)\n",
      "Ignoring wrong pointing object 867 0 (offset 0)\n",
      "Ignoring wrong pointing object 876 0 (offset 0)\n",
      "Ignoring wrong pointing object 880 0 (offset 0)\n",
      "Ignoring wrong pointing object 882 0 (offset 0)\n",
      "Ignoring wrong pointing object 887 0 (offset 0)\n",
      "Ignoring wrong pointing object 892 0 (offset 0)\n",
      "Ignoring wrong pointing object 897 0 (offset 0)\n",
      "Ignoring wrong pointing object 904 0 (offset 0)\n",
      "Ignoring wrong pointing object 909 0 (offset 0)\n",
      "Ignoring wrong pointing object 911 0 (offset 0)\n",
      "Ignoring wrong pointing object 913 0 (offset 0)\n",
      "Ignoring wrong pointing object 915 0 (offset 0)\n",
      "Ignoring wrong pointing object 917 0 (offset 0)\n",
      "Ignoring wrong pointing object 924 0 (offset 0)\n",
      "Ignoring wrong pointing object 926 0 (offset 0)\n",
      "Ignoring wrong pointing object 933 0 (offset 0)\n",
      "Ignoring wrong pointing object 935 0 (offset 0)\n",
      "Ignoring wrong pointing object 937 0 (offset 0)\n",
      "Ignoring wrong pointing object 939 0 (offset 0)\n",
      "Ignoring wrong pointing object 947 0 (offset 0)\n",
      "Ignoring wrong pointing object 950 0 (offset 0)\n",
      "Ignoring wrong pointing object 960 0 (offset 0)\n",
      "Ignoring wrong pointing object 962 0 (offset 0)\n",
      "Ignoring wrong pointing object 969 0 (offset 0)\n",
      "Ignoring wrong pointing object 971 0 (offset 0)\n",
      "Ignoring wrong pointing object 973 0 (offset 0)\n",
      "Ignoring wrong pointing object 975 0 (offset 0)\n",
      "Ignoring wrong pointing object 977 0 (offset 0)\n",
      "Ignoring wrong pointing object 984 0 (offset 0)\n",
      "Ignoring wrong pointing object 986 0 (offset 0)\n",
      "Ignoring wrong pointing object 988 0 (offset 0)\n",
      "Ignoring wrong pointing object 990 0 (offset 0)\n",
      "Ignoring wrong pointing object 992 0 (offset 0)\n",
      "Ignoring wrong pointing object 994 0 (offset 0)\n",
      "Ignoring wrong pointing object 1001 0 (offset 0)\n",
      "Ignoring wrong pointing object 1003 0 (offset 0)\n",
      "Ignoring wrong pointing object 1005 0 (offset 0)\n"
     ]
    },
    {
     "name": "stdout",
     "output_type": "stream",
     "text": [
      "Working on: ../data/input/full/references/vector1.pdf\n",
      "Working on: ../data/input/full/references/NeurIPS Datasets and Benchmarks-2021-ai-and-the-everything-in-the-whole-wide-world-benchmark-Paper-round2.pdf\n",
      "Working on: ../data/input/full/references/lm.pdf\n",
      "Working on: ../data/input/full/references/2202.12837v2.pdf\n",
      "Working on: ../data/input/full/references/What Every Computer Scientist Should Know About Floating-Point Arithmetic.html\n",
      "Working on: ../data/input/full/references/1909.11942v6.pdf\n",
      "Working on: ../data/input/full/references/12732tjo.pdf\n",
      "Working on: ../data/input/full/references/2203.15556v1.pdf\n",
      "Working on: ../data/input/full/references/Transformer_ A Novel Neural Network Architecture for Language Understanding.html\n",
      "Working on: ../data/input/full/references/The Illustrated Transformer – Jay Alammar – Visualizing machine learning one concept at a time..html\n",
      "Time taken to generate chunks: 25.793281 seconds\n"
     ]
    }
   ],
   "source": [
    "references_chunks_df = generate_chunks_df(references)"
   ]
  },
  {
   "cell_type": "code",
   "execution_count": 26,
   "id": "a4ecb947-c756-4025-a46e-f6e8c1efb43a",
   "metadata": {
    "scrolled": true
   },
   "outputs": [
    {
     "name": "stdout",
     "output_type": "stream",
     "text": [
      "Working on: ../data/input/full/notebooks/goldberg_lm.ipynb\n",
      "Working on: ../data/input/full/notebooks/promptgen.ipynb\n",
      "Working on: ../data/input/full/notebooks/ngram_smooth_backup.ipynb\n",
      "Working on: ../data/input/full/notebooks/xor.ipynb\n",
      "Working on: ../data/input/full/notebooks/pyfst-intro.ipynb\n",
      "Working on: ../data/input/full/notebooks/ngram_gen.ipynb\n",
      "Working on: ../data/input/full/notebooks/goldberg.ipynb\n",
      "Working on: ../data/input/full/notebooks/scaling_laws.ipynb\n",
      "Working on: ../data/input/full/notebooks/ngram_smooth.ipynb\n",
      "Working on: ../data/input/full/notebooks/tidbits.ipynb\n",
      "Working on: ../data/input/full/notebooks/word2vec.ipynb\n",
      "Working on: ../data/input/full/notebooks/human_cloze.ipynb\n",
      "Working on: ../data/input/full/notebooks/svd.ipynb\n",
      "Working on: ../data/input/full/notebooks/loglinear.ipynb\n",
      "Working on: ../data/input/full/notebooks/ensegment_demo.ipynb\n",
      "Working on: ../data/input/full/notebooks/ff.ipynb\n",
      "Working on: ../data/input/full/notebooks/rnnlm.ipynb\n",
      "Working on: ../data/input/full/notebooks/mlp.ipynb\n",
      "Working on: ../data/input/full/notebooks/python-tidbits.ipynb\n",
      "Working on: ../data/input/full/notebooks/bpe.ipynb\n",
      "Working on: ../data/input/full/notebooks/cfg.ipynb\n",
      "Working on: ../data/input/full/notebooks/probintro.ipynb\n",
      "Working on: ../data/input/full/notebooks/naivebayes.ipynb\n",
      "Working on: ../data/input/full/notebooks/transformer.ipynb\n",
      "Working on: ../data/input/full/notebooks/hmm.ipynb\n",
      "Working on: ../data/input/full/notebooks/em-intro.ipynb\n",
      "Working on: ../data/input/full/notebooks/edit-distance.ipynb\n",
      "Working on: ../data/input/full/notebooks/transformer_sizing.ipynb\n",
      "Time taken to generate chunks: 0.183488 seconds\n"
     ]
    }
   ],
   "source": [
    "notebooks_chunks_df = generate_chunks_df(notebooks)"
   ]
  },
  {
   "cell_type": "code",
   "execution_count": 27,
   "id": "4ece411f-988b-4118-9d4b-000eee9f8578",
   "metadata": {
    "scrolled": true
   },
   "outputs": [
    {
     "name": "stderr",
     "output_type": "stream",
     "text": [
      "Ignoring wrong pointing object 6 0 (offset 0)\n",
      "Ignoring wrong pointing object 8 0 (offset 0)\n",
      "Ignoring wrong pointing object 14 0 (offset 0)\n",
      "Ignoring wrong pointing object 16 0 (offset 0)\n",
      "Ignoring wrong pointing object 18 0 (offset 0)\n",
      "Ignoring wrong pointing object 23 0 (offset 0)\n",
      "Ignoring wrong pointing object 25 0 (offset 0)\n",
      "Ignoring wrong pointing object 27 0 (offset 0)\n",
      "Ignoring wrong pointing object 32 0 (offset 0)\n",
      "Ignoring wrong pointing object 34 0 (offset 0)\n",
      "Ignoring wrong pointing object 36 0 (offset 0)\n",
      "Ignoring wrong pointing object 41 0 (offset 0)\n",
      "Ignoring wrong pointing object 43 0 (offset 0)\n",
      "Ignoring wrong pointing object 45 0 (offset 0)\n",
      "Ignoring wrong pointing object 50 0 (offset 0)\n",
      "Ignoring wrong pointing object 52 0 (offset 0)\n",
      "Ignoring wrong pointing object 54 0 (offset 0)\n",
      "Ignoring wrong pointing object 59 0 (offset 0)\n",
      "Ignoring wrong pointing object 61 0 (offset 0)\n",
      "Ignoring wrong pointing object 63 0 (offset 0)\n",
      "Ignoring wrong pointing object 68 0 (offset 0)\n",
      "Ignoring wrong pointing object 70 0 (offset 0)\n",
      "Ignoring wrong pointing object 72 0 (offset 0)\n",
      "Ignoring wrong pointing object 78 0 (offset 0)\n",
      "Ignoring wrong pointing object 80 0 (offset 0)\n",
      "Ignoring wrong pointing object 82 0 (offset 0)\n",
      "Ignoring wrong pointing object 87 0 (offset 0)\n",
      "Ignoring wrong pointing object 89 0 (offset 0)\n",
      "Ignoring wrong pointing object 91 0 (offset 0)\n",
      "Ignoring wrong pointing object 96 0 (offset 0)\n",
      "Ignoring wrong pointing object 98 0 (offset 0)\n",
      "Ignoring wrong pointing object 100 0 (offset 0)\n",
      "Ignoring wrong pointing object 105 0 (offset 0)\n",
      "Ignoring wrong pointing object 107 0 (offset 0)\n",
      "Ignoring wrong pointing object 109 0 (offset 0)\n",
      "Ignoring wrong pointing object 111 0 (offset 0)\n",
      "Ignoring wrong pointing object 116 0 (offset 0)\n",
      "Ignoring wrong pointing object 118 0 (offset 0)\n",
      "Ignoring wrong pointing object 120 0 (offset 0)\n"
     ]
    },
    {
     "name": "stdout",
     "output_type": "stream",
     "text": [
      "Working on: ../data/input/full/exercises/centauri-arcturan-align.pdf\n"
     ]
    },
    {
     "name": "stderr",
     "output_type": "stream",
     "text": [
      "Ignoring wrong pointing object 9 0 (offset 0)\n",
      "Ignoring wrong pointing object 11 0 (offset 0)\n"
     ]
    },
    {
     "name": "stdout",
     "output_type": "stream",
     "text": [
      "Working on: ../data/input/full/exercises/SFU NLP class_ n-gram language models.html\n",
      "Working on: ../data/input/full/exercises/intro-learning-from-text.pdf\n",
      "Working on: ../data/input/full/exercises/SFU NLP class_ The Philae Obelisk.html\n",
      "Working on: ../data/input/full/exercises/N2017-HS.pdf\n",
      "Working on: ../data/input/full/exercises/SFU NLP class_ word2vec.html\n",
      "Time taken to generate chunks: 0.199123 seconds\n"
     ]
    }
   ],
   "source": [
    "exercises_chunks_df = generate_chunks_df(exercises)"
   ]
  },
  {
   "cell_type": "code",
   "execution_count": 28,
   "id": "c41f152b-a607-4beb-b34f-5a8c4de24773",
   "metadata": {},
   "outputs": [
    {
     "name": "stdout",
     "output_type": "stream",
     "text": [
      "Working on: ../data/input/full/qas/midterm-questions-1.csv\n",
      "Working on: ../data/input/full/qas/midterm-questions-2.csv\n",
      "Working on: ../data/input/full/qas/midterm-questions-3.csv\n",
      "Time taken to generate chunks: 0.008389 seconds\n"
     ]
    }
   ],
   "source": [
    "qas_chunks_df = generate_chunks_df(qas, qas=True)"
   ]
  },
  {
   "cell_type": "code",
   "execution_count": 29,
   "id": "ae2855fb-6c45-4c8c-9eb5-8f3b720d3b35",
   "metadata": {
    "scrolled": true
   },
   "outputs": [
    {
     "name": "stdout",
     "output_type": "stream",
     "text": [
      "Lectures chunks stats:\n",
      "Total number of non-empty strings: 1626\n",
      "Average length of the strings: 283.6482164821648\n",
      "Shortest string:\n",
      "GLUE\n",
      "\n",
      "Longest string:\n",
      " the classical\n",
      "high curvature valley, is that we assume that the val-\n",
      "ley is wide, as we have a large region around the wall\n",
      "where if we land we can rely on ﬁrst order methods\n",
      "to move towards the local minima. This is why just\n",
      "clipping the gradient might be su \u0000 cient, not requiring\n",
      "the use a second order method. Note that this algo-\n",
      "rithm should work even when the rate of growth of the\n",
      "gradient is not the same as the one of the curvature\n",
      "(a case for which a second order method would fail\n",
      "as the ratio between the gradient and curvature could\n",
      "still explode).\n",
      "Our hypothesis could also help to understand the re-\n",
      "cent success of the Hessian-Free approach compared\n",
      "to other second order methods. There are two key dif-\n",
      "ferences between Hessian-Free and most other second-\n",
      "order algorithms. First, it uses the full Hessian matrix\n",
      "and hence can deal with exploding directions that are\n",
      "not necessarily axis-aligned. Second, it computes a\n",
      "new estimate of the Hessian matrix before each up-\n",
      "date step and can take into account abrupt changes in\n",
      "curvature (such as the ones suggested by our hypothe-\n",
      "sis) while most other approaches use a smoothness as-\n",
      "sumption, i.e., averaging 2nd order signals over many\n",
      "steps.\n",
      "3. Dealing with the exploding and\n",
      "vanishing gradient\n",
      "3.1. Previous solutions\n",
      "Using an L1 or L2 penalty on the recurrent weights can\n",
      "help with exploding gradients. Given that the parame-\n",
      "ters initialized with small values, the spectral radius of\n",
      "W rec is probably smaller than 1, from which it follows\n",
      "that the gradient can not explode (see necessary condi-\n",
      "tion found in section 2.1). The regularization term can\n",
      "ensure that during training the spectral radius never\n",
      "exceeds 1. This approach limits the model to a sim-\n",
      "ple regime (with a single point attractor at the origin),\n",
      "where any information inserted in the model has to die\n",
      "out exponentially fast in time. In such a regime we can\n",
      "not train a generator network, nor can we exhibit long\n",
      "term memory traces.\n",
      "Doya (1993) proposes to pre-program the model (to\n",
      "initialize the model in the right regime) or to use\n",
      "teacher forcing . The ﬁrst proposal assumes that if\n",
      "the model exhibits from the beginning the same kind\n",
      "of asymptotic behaviour as the one required by the\n",
      "target, then there is no need to\n",
      "\n",
      "Average word count of the strings: 49.64391143911439\n",
      "Number of strings with special characters: 1504\n"
     ]
    },
    {
     "name": "stderr",
     "output_type": "stream",
     "text": [
      "/var/folders/3s/jxqtlgkn21q5w9l6jfks93g00000gn/T/ipykernel_15222/1031886341.py:14: FutureWarning: The default of observed=False is deprecated and will be changed to True in a future version of pandas. Pass observed=False to retain current behavior or observed=True to adopt the future default and silence this warning.\n",
      "  binned_df = length_df.groupby('Bucket', as_index=False)['Count'].sum()\n",
      "/var/folders/3s/jxqtlgkn21q5w9l6jfks93g00000gn/T/ipykernel_15222/1031886341.py:21: FutureWarning: \n",
      "\n",
      "Passing `palette` without assigning `hue` is deprecated and will be removed in v0.14.0. Assign the `x` variable to `hue` and set `legend=False` for the same effect.\n",
      "\n",
      "  sns.barplot(data=binned_df, x=\"Bucket\", y=\"Count\", palette=\"viridis\")\n"
     ]
    },
    {
     "data": {
      "image/png": "[encoded data removed]",
      "text/plain": [
       "<Figure size 1200x600 with 1 Axes>"
      ]
     },
     "metadata": {},
     "output_type": "display_data"
    }
   ],
   "source": [
    "print(f\"Lectures chunks stats:\")\n",
    "lecture_chunks_stats = generate_statistics(lectures_chunks_df)\n",
    "display_statistics(lecture_chunks_stats, bucket_size=20)"
   ]
  },
  {
   "cell_type": "markdown",
   "id": "3ec605bf-d2aa-4ad0-ac5f-bd8e352ea6f9",
   "metadata": {},
   "source": [
    "It took around 2.39 seconds to generate chunks from lecture PDFs. These chunks have a very left skewed distribution of lengths with the majority of chunks having sub-100 string lengths and a decent spread between 200 to 680 string lengths. This makes sense because Anoop's lecture PDFs have very small sentences (talk about being to the point!)"
   ]
  },
  {
   "cell_type": "code",
   "execution_count": 30,
   "id": "85d92339-305a-462d-aa1f-63d0f0c45465",
   "metadata": {
    "scrolled": true
   },
   "outputs": [
    {
     "name": "stdout",
     "output_type": "stream",
     "text": [
      "References chunks stats:\n",
      "Total number of non-empty strings: 5615\n",
      "Average length of the strings: 705.2639358860196\n",
      "Shortest string:\n",
      ".\n",
      "\n",
      "Longest string:\n",
      "and therefore, exploring how to more efﬁ-\n",
      "ciently utilize them is an important research\n",
      "question. We are investigating more sophis-\n",
      "ticated fusion techniques that can achieve\n",
      "higher quality and efﬁciency.\n",
      "• Better metrics : The limitations of lexical\n",
      "matching metrics can mislead translation qual-\n",
      "ity assessment. Therefore, developing met-\n",
      "rics that can measure the contextual correct-\n",
      "ness of LLM-generated translations is essen-\n",
      "tial. Future research can also explore new\n",
      "ways to evaluate the quality of machine trans-\n",
      "lations more accurately, especially when using\n",
      "LLMs.\n",
      "Overall, our study provides valuable insights into\n",
      "the strengths and weaknesses of GPT models for\n",
      "machine translation and opens up opportunities for\n",
      "future improvements and developments in this ﬁeld.\n",
      "We investigated how GPT models can transform\n",
      "machine translation as it is doing with other gen-\n",
      "erative tasks. We demonstrated that these models\n",
      "excel at translating well-represented languages in\n",
      "their training data, but they face challenges with\n",
      "less-resourced languages. We also assessed trans-\n",
      "lation and reasoning tasks and detected discrepan-\n",
      "cies in the level of support of the tasks even for\n",
      "the same languages. One of the main beneﬁts of\n",
      "training such costly models is to achieve high per-\n",
      "formance across diverse tasks and languages, but\n",
      "this demands more data across languages. Which\n",
      "poses several challenges for models scalability, di-\n",
      "versity, and fairness. As a future research direction,\n",
      "we propose to tackle the challenge of enabling truly\n",
      "multilingual capability for such models that would\n",
      "enable the same capabilities across languages.\n",
      "Limitations\n",
      "We conducted our evaluation on 18 translation di-\n",
      "rections with reliable test sets and baselines. The\n",
      "conclusion of the study should be taken in this con-\n",
      "text and not generalized to other languages with-\n",
      "out further evaluation. While a more comprehen-\n",
      "sive evaluation is needed on more languages, we\n",
      "should be cautious about drawing conclusions from\n",
      "low quality testsets or weaker baselines which are\n",
      "usually dominating the research results for low re-\n",
      "source languages.\n",
      "One of the limitations of this study is the inad-\n",
      "equacy of current automatic evaluation metrics to\n",
      "capture the quality of GPT outputs accurately. We\n",
      "found that lexical comparison based metrics such\n",
      "as BLEU or chrF gave misleading signals, and that\n",
      "document-level evaluation had limited capability\n",
      "to realize the effect of context-based translation.\n",
      "These limitations stem from the inherent challenges\n",
      "of evaluating natural language generation systems,\n",
      "especially for complex tasks such as machine trans\n",
      "\n",
      "Average word count of the strings: 112.27711487088156\n",
      "Number of strings with special characters: 5599\n"
     ]
    },
    {
     "name": "stderr",
     "output_type": "stream",
     "text": [
      "/var/folders/3s/jxqtlgkn21q5w9l6jfks93g00000gn/T/ipykernel_15222/1031886341.py:14: FutureWarning: The default of observed=False is deprecated and will be changed to True in a future version of pandas. Pass observed=False to retain current behavior or observed=True to adopt the future default and silence this warning.\n",
      "  binned_df = length_df.groupby('Bucket', as_index=False)['Count'].sum()\n",
      "/var/folders/3s/jxqtlgkn21q5w9l6jfks93g00000gn/T/ipykernel_15222/1031886341.py:21: FutureWarning: \n",
      "\n",
      "Passing `palette` without assigning `hue` is deprecated and will be removed in v0.14.0. Assign the `x` variable to `hue` and set `legend=False` for the same effect.\n",
      "\n",
      "  sns.barplot(data=binned_df, x=\"Bucket\", y=\"Count\", palette=\"viridis\")\n"
     ]
    },
    {
     "data": {
      "image/png": "[encoded data removed]",
      "text/plain": [
       "<Figure size 1200x600 with 1 Axes>"
      ]
     },
     "metadata": {},
     "output_type": "display_data"
    }
   ],
   "source": [
    "print(f\"References chunks stats:\")\n",
    "reference_chunks_stats = generate_statistics(references_chunks_df)\n",
    "display_statistics(reference_chunks_stats, bucket_size=50)"
   ]
  },
  {
   "cell_type": "markdown",
   "id": "b04e0d2b-9e97-4ddd-b438-fd4355748f32",
   "metadata": {},
   "source": [
    "It took around 60.12 seconds to generate chunks from the references. These chunks have a huge spread of length with quite a few being in the range of 1600 to 2200 characters and a large majority being sub-200 characters in length. Such is the nature of reference materials. They are often very wordy!"
   ]
  },
  {
   "cell_type": "code",
   "execution_count": 31,
   "id": "897473de-a79a-444f-82f8-95879f5b921f",
   "metadata": {
    "scrolled": true
   },
   "outputs": [
    {
     "name": "stdout",
     "output_type": "stream",
     "text": [
      "Notebooks chunks stats:\n",
      "Total number of non-empty strings: 1424\n",
      "Average length of the strings: 542.8721910112359\n",
      "Shortest string:\n",
      "Text block:\n",
      "## End\n",
      "\n",
      "\n",
      "Longest string:\n",
      "_ substantial increase in our industry's shipments of military electronics , which totalled about $5.4 billion compared to $4.9 billion in 1959 .\n",
      "------------------------------------------------------------------------\n",
      "_______ veteran diplomat with an extraordinary knowledge of Russian language , history and literature , Kennan recalls how , at the time of Hitler's attack on the Soviet Union in 1941 , he penned a private note to a State Department official , expressing the hope that `` never would we associate ourselves with Russian purposes in the areas of eastern Europe beyond her own boundaries '' .\n",
      "\n",
      "Blanched peanuts , as prepared for making peanut _______ or for eating as nuts , are roasted seeds whose seedcoats have been rubbed off .\n",
      "\n",
      "I just do what I'm _______ , and '' --\n",
      "------------------------------------------------------------------------\n",
      "Cocoa , chocolate , and cocoa _______ come from the ground seeds of the cacao tree .\n",
      "\n",
      "Further , an _______ might consist of five rounds , and several sets of five rounds might be regarded as a super-experiment composed of several repetitions of the five-round _______ .\n",
      "\n",
      "We all painted in our spare time , and we had all started as easel painters with scholarships , but he was the only one of us who _______ any regular money at it .\n",
      "------------------------------------------------------------------------\n",
      "Then , my mother _______ at this small lie ; ;\n",
      "\n",
      "The sand is fine and pleasant , the cabanas are clean , and the parasols , green , raspberry , and _______ yellow , are very gay .\n",
      "\n",
      "The symposium provides an opportunity to confront the self with specific statements which were made at particular times by identifiable communicators who were _______ definite audiences -- and throughout several hundred pages everyone is talking about the same key symbol of identification .\n",
      "------------------------------------------------------------------------\n",
      "_______ ; ;\n",
      "\n",
      "He _______ a fine-looking colt with a good body , good set of legs and nice way of going .\n",
      "\n",
      "A piece of devotional material , such as The Upper Room , may be left _______ each home .\n",
      "------------------------------------------------------------------------\n",
      "Hub _______ .\n",
      "\n",
      "Corollary _______\n",
      "\n",
      "Since ordinary breakfast-table conversation was impossible , it was at least something that they were able to offer Eugene the sugar bowl with their sugar in it , and the plate of bread and _______ , and that Eugene could return the pitcher of hot milk to them handle first .\n",
      "------------------------------------------------------------------------\n",
      "Nor did the dancing _______ really seize the attention at any time .\n",
      "\n",
      "They passed the marmalade , the bread , the black-market _______ , back and forth .\n",
      "\n",
      "at best the annual _______ appears to be a matter of inches rather than feet .\n",
      "------------------------------------------------------------------------\n",
      "When the fate of the individual\n",
      "\n",
      "Average word count of the strings: 71.23244382022472\n",
      "Number of strings with special characters: 1424\n"
     ]
    },
    {
     "name": "stderr",
     "output_type": "stream",
     "text": [
      "/var/folders/3s/jxqtlgkn21q5w9l6jfks93g00000gn/T/ipykernel_15222/1031886341.py:14: FutureWarning: The default of observed=False is deprecated and will be changed to True in a future version of pandas. Pass observed=False to retain current behavior or observed=True to adopt the future default and silence this warning.\n",
      "  binned_df = length_df.groupby('Bucket', as_index=False)['Count'].sum()\n",
      "/var/folders/3s/jxqtlgkn21q5w9l6jfks93g00000gn/T/ipykernel_15222/1031886341.py:21: FutureWarning: \n",
      "\n",
      "Passing `palette` without assigning `hue` is deprecated and will be removed in v0.14.0. Assign the `x` variable to `hue` and set `legend=False` for the same effect.\n",
      "\n",
      "  sns.barplot(data=binned_df, x=\"Bucket\", y=\"Count\", palette=\"viridis\")\n"
     ]
    },
    {
     "data": {
      "image/png": "[encoded data removed]",
      "text/plain": [
       "<Figure size 1200x600 with 1 Axes>"
      ]
     },
     "metadata": {},
     "output_type": "display_data"
    }
   ],
   "source": [
    "print(f\"Notebooks chunks stats:\")\n",
    "notebook_chunks_stats = generate_statistics(notebooks_chunks_df)\n",
    "display_statistics(notebook_chunks_stats, bucket_size=50)"
   ]
  },
  {
   "cell_type": "markdown",
   "id": "6e612d0a-8dd4-46f0-a614-a578c8433135",
   "metadata": {},
   "source": [
    "The chunks for notebooks took 0.23 seconds to generate and mostly contain less than 200 character-long strings. Most code blocks and markdown blocks are not that text-heavy and that explains this observation. We also find a fair amount of chunks with 1100-1300 character lengths and these are usually the output blocks which often contain outputs from loop iterations or training statistics or text generation output which are likely to be very long in nature.\n",
    "\n",
    "We do similar statistics for exercises and qas"
   ]
  },
  {
   "cell_type": "code",
   "execution_count": 32,
   "id": "d6a44cc0-9166-49d5-9af2-581ac3774255",
   "metadata": {
    "scrolled": true
   },
   "outputs": [
    {
     "name": "stdout",
     "output_type": "stream",
     "text": [
      "Exercise chunks stats:\n",
      "Total number of non-empty strings: 102\n",
      "Average length of the strings: 303.11764705882354\n",
      "Shortest string:\n",
      "?\n",
      "\n",
      "Longest string:\n",
      "As can be seen pretty quickly from the a + 2b example, each new cell in the network is determined by taking \n",
      "the sum across all inputs of each input times the weight on that input’s arrow. From the example translations \n",
      "of the translator program, we can learn all the weights. Let’s call the four elements of the input a,b,c,d. From \n",
      "the examples, we can learn that the four outputs are (from left to right) (b + c), (a + b + c), (c + d), (a + c). \n",
      "(These expressions can be figured out by treating the examples as a system of equations and solving it rigor-\n",
      "ously, or you can also figure it out just by eyeballing the examples). \n",
      " \n",
      "More formally, if we treat the Rigelese as a column vector of dimension 4 called R and the English as a col-\n",
      "umn vector of dimension 4 called E, then we can write WR = E Where W is a matrix of the weights that can be \n",
      "written as \n",
      " \n",
      "     \n",
      "              W = \n",
      " \n",
      "  \n",
      "However, it is by no means necessary to know anything about matrices to solve this--you can easily just use \n",
      "the expressions (b + c), (a + b + c), (c + d), (a + c). \n",
      " \n",
      "Using either the matrix multiplication approach or the expressions (b + c), (a + b + c), (c + d), (a + c), we can fill \n",
      "out the translation steps to get that the final message is GOOD LUCK WITH THAT: \n",
      "(H) Nothing But Net(works) (1/1)  \n",
      "0 1 1 0 \n",
      "1 1 1 0 \n",
      "0 0 1 1 \n",
      "1 0 1 0 \n",
      "Rigelese ζ Ψ δ ξ \n",
      "     \n",
      " 8 11 -4 19 \n",
      "     \n",
      "     \n",
      " 7 15 15 4 \n",
      "     \n",
      "English G O O D \n",
      "Rigelese ϖ Ξ Ν φ \n",
      "     \n",
      " 9 10 2 1 \n",
      "     \n",
      "     \n",
      " 12 21 3 11 \n",
      "     \n",
      "English L U C K \n",
      "Rigelese Π Π α Σ \n",
      "     \n",
      " -12 -12 32 -31 \n",
      "     \n",
      "     \n",
      " 20 8 1 20 \n",
      "     \n",
      "English T H A T \n",
      "Rigelese Α φ Ω υ \n",
      "     \n",
      " -14 1 22 -2 \n",
      "     \n",
      "     \n",
      " 23\n",
      "\n",
      "Average word count of the strings: 53.411764705882355\n",
      "Number of strings with special characters: 102\n"
     ]
    },
    {
     "name": "stderr",
     "output_type": "stream",
     "text": [
      "/var/folders/3s/jxqtlgkn21q5w9l6jfks93g00000gn/T/ipykernel_15222/1031886341.py:14: FutureWarning: The default of observed=False is deprecated and will be changed to True in a future version of pandas. Pass observed=False to retain current behavior or observed=True to adopt the future default and silence this warning.\n",
      "  binned_df = length_df.groupby('Bucket', as_index=False)['Count'].sum()\n",
      "/var/folders/3s/jxqtlgkn21q5w9l6jfks93g00000gn/T/ipykernel_15222/1031886341.py:21: FutureWarning: \n",
      "\n",
      "Passing `palette` without assigning `hue` is deprecated and will be removed in v0.14.0. Assign the `x` variable to `hue` and set `legend=False` for the same effect.\n",
      "\n",
      "  sns.barplot(data=binned_df, x=\"Bucket\", y=\"Count\", palette=\"viridis\")\n"
     ]
    },
    {
     "data": {
      "image/png": "[encoded data removed]",
      "text/plain": [
       "<Figure size 1200x600 with 1 Axes>"
      ]
     },
     "metadata": {},
     "output_type": "display_data"
    }
   ],
   "source": [
    "print(f\"Exercise chunks stats:\")\n",
    "exercise_chunks_stats = generate_statistics(exercises_chunks_df)\n",
    "display_statistics(exercise_chunks_stats, bucket_size=50)"
   ]
  },
  {
   "cell_type": "code",
   "execution_count": 33,
   "id": "579f2d46-91c2-4cbc-a0b0-f24fe2644281",
   "metadata": {
    "scrolled": true
   },
   "outputs": [
    {
     "name": "stdout",
     "output_type": "stream",
     "text": [
      "QA chunks stats:\n",
      "Total number of non-empty strings: 26\n",
      "Average length of the strings: 841.1153846153846\n",
      "Shortest string:\n",
      "Info: No extra information given\n",
      "Question: 11. In a four-gram MLP language model with an embedding dimension of d and a hidden layer size of h, what is the input dimension of the first linear layer?\n",
      "    1. d\n",
      "    2. 3d\n",
      "    3. 4d\n",
      "    4. h\n",
      "Answer: - Correct answer: b. 3d\n",
      "\n",
      "\n",
      "Longest string:\n",
      "Info: (1) You are given the following training data for the prepositional phrase (PP) attachment task. v        n1        p        n2        Attachment\n",
      "join        board        as        director        V\n",
      "is        chairman        of        N.V.        N\n",
      "using        crocidolite        in        filters        V\n",
      "Where the attachment value of V indicates that p attaches to v and the attachment value of N indicates\n",
      "that p attaches to n1.\n",
      "In order to resolve PP attachment ambiguity we can train a probability model: P(A= N |v,n1,p,n2)\n",
      "which predicts the attachment A as N if P >0.5 and V otherwise.\n",
      "Question: (6pts) To define P(A= N |v,n1,p,n2) using n-gram probabilities, since we are unlikely to see the\n",
      "same four words v,n1,p,n2 in novel unseen data, in order for this probability model to be useful we\n",
      "need to take care of zero counts.\n",
      "ˆ\n",
      "Provide a Jelinek-Mercer style interpolation smoothing model\n",
      "P(A= N |v,n1,p,n2) for this PP\n",
      "attachment probability model. Do not use recursive interpolation in your solution.\n",
      "Assume that our training data is large enough to contain all the prepositions we might observe in\n",
      "unseen data. You cannot assume that all the verbs and nouns in the unseen data were seen in training.\n",
      "Your solution must have a 4-gram and at least two trigrams, at least two bigrams and at least one\n",
      "unigram.\n",
      "must obey such that\n",
      "In the interpolation model if you use any new variables then provide the constraints that the variables\n",
      "ˆ\n",
      "P continues to be a valid probability.\n",
      "Answer: P(A= N |v,n1,p,n2)= λ1P(A= N |v,n1,p,n2)\n",
      "+λ2P(A= N |v,p,n2)\n",
      "+λ3P(A= N |n1,p,n2)\n",
      "+λ4P(A= N |v,p)\n",
      "+λ5P(A= N |n1,p)\n",
      "+λ6P(A= N |p)\n",
      "To be a well-formed interpolation model, i λi = 1. There are many other solutions such as for instance,\n",
      "the 3-gram model could have diﬀerent choices for the conditioning context, e.g. v,n1,p instead of v,p,n2 and\n",
      "similarly for the bigrams\n",
      "\n",
      "Average word count of the strings: 156.92307692307693\n",
      "Number of strings with special characters: 26\n"
     ]
    },
    {
     "name": "stderr",
     "output_type": "stream",
     "text": [
      "/var/folders/3s/jxqtlgkn21q5w9l6jfks93g00000gn/T/ipykernel_15222/1031886341.py:14: FutureWarning: The default of observed=False is deprecated and will be changed to True in a future version of pandas. Pass observed=False to retain current behavior or observed=True to adopt the future default and silence this warning.\n",
      "  binned_df = length_df.groupby('Bucket', as_index=False)['Count'].sum()\n",
      "/var/folders/3s/jxqtlgkn21q5w9l6jfks93g00000gn/T/ipykernel_15222/1031886341.py:21: FutureWarning: \n",
      "\n",
      "Passing `palette` without assigning `hue` is deprecated and will be removed in v0.14.0. Assign the `x` variable to `hue` and set `legend=False` for the same effect.\n",
      "\n",
      "  sns.barplot(data=binned_df, x=\"Bucket\", y=\"Count\", palette=\"viridis\")\n"
     ]
    },
    {
     "data": {
      "image/png": "[encoded data removed]",
      "text/plain": [
       "<Figure size 1200x600 with 1 Axes>"
      ]
     },
     "metadata": {},
     "output_type": "display_data"
    }
   ],
   "source": [
    "print(f\"QA chunks stats:\")\n",
    "qa_chunks_stats = generate_statistics(qas_chunks_df)\n",
    "display_statistics(qa_chunks_stats, bucket_size=50)"
   ]
  },
  {
   "cell_type": "markdown",
   "id": "d7bbfab1-c851-41ef-b438-09f4490b6074",
   "metadata": {},
   "source": [
    "#### Generate embeddings JSONs"
   ]
  },
  {
   "cell_type": "code",
   "execution_count": 34,
   "id": "c4feab37-459f-44b9-9979-08594572dca0",
   "metadata": {},
   "outputs": [
    {
     "name": "stdout",
     "output_type": "stream",
     "text": [
      "Time taken to generate embeddings: 425.186031 seconds\n"
     ]
    }
   ],
   "source": [
    "lectures_embedded = generate_embeddings_df_json_and_save(lectures_chunks_df, \"lectures-embeddings.json\")"
   ]
  },
  {
   "cell_type": "code",
   "execution_count": 35,
   "id": "e7e6bc7c-77c4-495f-b24d-daa52cc749a7",
   "metadata": {},
   "outputs": [
    {
     "name": "stdout",
     "output_type": "stream",
     "text": [
      "Time taken to generate embeddings: 385.161218 seconds\n"
     ]
    }
   ],
   "source": [
    "references_embedded = generate_embeddings_df_json_and_save(lectures_chunks_df, \"references-embeddings.json\")"
   ]
  },
  {
   "cell_type": "code",
   "execution_count": 36,
   "id": "612f5a2b-3f79-45ab-8d9b-b42159b431bd",
   "metadata": {},
   "outputs": [
    {
     "name": "stdout",
     "output_type": "stream",
     "text": [
      "Time taken to generate embeddings: 342.280106 seconds\n"
     ]
    }
   ],
   "source": [
    "notebooks_embedded = generate_embeddings_df_json_and_save(notebooks_chunks_df, \"notebooks-embeddings.json\")"
   ]
  },
  {
   "cell_type": "code",
   "execution_count": 37,
   "id": "0a02ef31-aba6-4d3b-8163-462d41de21e3",
   "metadata": {},
   "outputs": [
    {
     "name": "stdout",
     "output_type": "stream",
     "text": [
      "Time taken to generate embeddings: 21.841311 seconds\n"
     ]
    }
   ],
   "source": [
    "exercises_embedded = generate_embeddings_df_json_and_save(exercises_chunks_df, \"exercises-embeddings.json\")"
   ]
  },
  {
   "cell_type": "code",
   "execution_count": 38,
   "id": "68d3dc00-8f1b-4869-bcdf-8a9c41bea48e",
   "metadata": {},
   "outputs": [
    {
     "name": "stdout",
     "output_type": "stream",
     "text": [
      "Time taken to generate embeddings: 5.404748 seconds\n"
     ]
    }
   ],
   "source": [
    "qas_embedded = generate_embeddings_df_json_and_save(qas_chunks_df, \"qas-embeddings.json\")"
   ]
  },
  {
   "cell_type": "markdown",
   "id": "30909e71-5f90-4b77-b3be-204fbdd0c6aa",
   "metadata": {},
   "source": [
    "#### Send to pinecone"
   ]
  },
  {
   "cell_type": "code",
   "execution_count": 39,
   "id": "7884be5f-0a68-49b2-abe7-498774f27423",
   "metadata": {},
   "outputs": [],
   "source": [
    "lectures_pc_data = prepare_data_for_pinecone(lectures_embedded)"
   ]
  },
  {
   "cell_type": "code",
   "execution_count": 40,
   "id": "1f7b293e-0ce5-49f3-b4cf-54e2761eef6d",
   "metadata": {},
   "outputs": [],
   "source": [
    "references_pc_data = prepare_data_for_pinecone(references_embedded)"
   ]
  },
  {
   "cell_type": "code",
   "execution_count": 41,
   "id": "852eb983-35d3-4228-8cff-335be725251a",
   "metadata": {},
   "outputs": [],
   "source": [
    "notebooks_pc_data = prepare_data_for_pinecone(notebooks_embedded)"
   ]
  },
  {
   "cell_type": "code",
   "execution_count": 42,
   "id": "0f8e827d-9fae-4865-9fb1-eecec4e09dfd",
   "metadata": {},
   "outputs": [],
   "source": [
    "exercises_pc_data = prepare_data_for_pinecone(exercises_embedded)"
   ]
  },
  {
   "cell_type": "code",
   "execution_count": 43,
   "id": "b56e3791-1a48-4e17-93a5-bb2378cafb9b",
   "metadata": {},
   "outputs": [],
   "source": [
    "qas_pc_data = prepare_data_for_pinecone(qas_embedded)"
   ]
  },
  {
   "cell_type": "code",
   "execution_count": 44,
   "id": "ab800387-a40d-497c-b6da-29c088a47f64",
   "metadata": {},
   "outputs": [
    {
     "name": "stdout",
     "output_type": "stream",
     "text": [
      "Time taken to upsert data: 39.605956\n"
     ]
    }
   ],
   "source": [
    "batch_upsert_data_into_index(lectures_pc_data, index, batch_size=10)"
   ]
  },
  {
   "cell_type": "code",
   "execution_count": 45,
   "id": "67db11f2-6dcd-4174-aa0a-727c387cc817",
   "metadata": {},
   "outputs": [
    {
     "name": "stdout",
     "output_type": "stream",
     "text": [
      "Time taken to upsert data: 37.606367\n"
     ]
    }
   ],
   "source": [
    "batch_upsert_data_into_index(references_pc_data, index, batch_size=10)"
   ]
  },
  {
   "cell_type": "code",
   "execution_count": 46,
   "id": "feede6db-264c-4692-ac61-cc8c5577a443",
   "metadata": {},
   "outputs": [
    {
     "name": "stdout",
     "output_type": "stream",
     "text": [
      "Time taken to upsert data: 32.691896\n"
     ]
    }
   ],
   "source": [
    "batch_upsert_data_into_index(notebooks_pc_data, index, batch_size=10)"
   ]
  },
  {
   "cell_type": "code",
   "execution_count": 47,
   "id": "cc1e1ddf-1383-468b-a003-95ed4af7373d",
   "metadata": {},
   "outputs": [
    {
     "name": "stdout",
     "output_type": "stream",
     "text": [
      "Time taken to upsert data: 2.444182\n"
     ]
    }
   ],
   "source": [
    "batch_upsert_data_into_index(exercises_pc_data, index, batch_size=10)"
   ]
  },
  {
   "cell_type": "code",
   "execution_count": 48,
   "id": "57ebf0d9-e874-472a-87b7-e70021151a40",
   "metadata": {},
   "outputs": [
    {
     "name": "stdout",
     "output_type": "stream",
     "text": [
      "Time taken to upsert data: 0.679354\n"
     ]
    }
   ],
   "source": [
    "batch_upsert_data_into_index(qas_pc_data, index, batch_size=10)"
   ]
  }
 ],
 "metadata": {
  "kernelspec": {
   "display_name": "Python 3 (ipykernel)",
   "language": "python",
   "name": "python3"
  },
  "language_info": {
   "codemirror_mode": {
    "name": "ipython",
    "version": 3
   },
   "file_extension": ".py",
   "mimetype": "text/x-python",
   "name": "python",
   "nbconvert_exporter": "python",
   "pygments_lexer": "ipython3",
   "version": "3.13.7"
  },
  "widgets": {
   "application/vnd.jupyter.widget-state+json": {
    "state": {},
    "version_major": 2,
    "version_minor": 0
   }
  }
 },
 "nbformat": 4,
 "nbformat_minor": 5
}
